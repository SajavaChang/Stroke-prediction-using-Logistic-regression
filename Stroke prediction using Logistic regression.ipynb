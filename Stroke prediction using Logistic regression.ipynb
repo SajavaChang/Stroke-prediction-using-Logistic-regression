{
 "cells": [
  {
   "cell_type": "code",
   "execution_count": 6,
   "metadata": {},
   "outputs": [
    {
     "data": {
      "application/javascript": [
       "IPython.notebook.set_autosave_interval(120000)"
      ]
     },
     "metadata": {},
     "output_type": "display_data"
    },
    {
     "name": "stdout",
     "output_type": "stream",
     "text": [
      "Autosaving every 120 seconds\n"
     ]
    }
   ],
   "source": [
    "# -*- coding: utf-8 -*-\n",
    "from platform import python_version\n",
    "import os, time, glob, socket, pickle, joblib\n",
    "import numpy as np\n",
    "import pandas as pd\n",
    "%autosave 120"
   ]
  },
  {
   "cell_type": "markdown",
   "metadata": {},
   "source": [
    "# <font color='blue'> 1. Import Data </font>"
   ]
  },
  {
   "cell_type": "code",
   "execution_count": 101,
   "metadata": {
    "scrolled": true
   },
   "outputs": [
    {
     "data": {
      "text/html": [
       "<div>\n",
       "<style scoped>\n",
       "    .dataframe tbody tr th:only-of-type {\n",
       "        vertical-align: middle;\n",
       "    }\n",
       "\n",
       "    .dataframe tbody tr th {\n",
       "        vertical-align: top;\n",
       "    }\n",
       "\n",
       "    .dataframe thead th {\n",
       "        text-align: right;\n",
       "    }\n",
       "</style>\n",
       "<table border=\"1\" class=\"dataframe\">\n",
       "  <thead>\n",
       "    <tr style=\"text-align: right;\">\n",
       "      <th></th>\n",
       "      <th>id</th>\n",
       "      <th>gender</th>\n",
       "      <th>age</th>\n",
       "      <th>hypertension</th>\n",
       "      <th>heart_disease</th>\n",
       "      <th>ever_married</th>\n",
       "      <th>work_type</th>\n",
       "      <th>Residence_type</th>\n",
       "      <th>avg_glucose_level</th>\n",
       "      <th>bmi</th>\n",
       "      <th>smoking_status</th>\n",
       "      <th>stroke</th>\n",
       "    </tr>\n",
       "  </thead>\n",
       "  <tbody>\n",
       "    <tr>\n",
       "      <th>0</th>\n",
       "      <td>9046</td>\n",
       "      <td>Male</td>\n",
       "      <td>67.0</td>\n",
       "      <td>0</td>\n",
       "      <td>1</td>\n",
       "      <td>Yes</td>\n",
       "      <td>Private</td>\n",
       "      <td>Urban</td>\n",
       "      <td>228.69</td>\n",
       "      <td>36.6</td>\n",
       "      <td>formerly smoked</td>\n",
       "      <td>1</td>\n",
       "    </tr>\n",
       "    <tr>\n",
       "      <th>1</th>\n",
       "      <td>51676</td>\n",
       "      <td>Female</td>\n",
       "      <td>61.0</td>\n",
       "      <td>0</td>\n",
       "      <td>0</td>\n",
       "      <td>Yes</td>\n",
       "      <td>Self-employed</td>\n",
       "      <td>Rural</td>\n",
       "      <td>202.21</td>\n",
       "      <td>NaN</td>\n",
       "      <td>never smoked</td>\n",
       "      <td>1</td>\n",
       "    </tr>\n",
       "    <tr>\n",
       "      <th>2</th>\n",
       "      <td>31112</td>\n",
       "      <td>Male</td>\n",
       "      <td>80.0</td>\n",
       "      <td>0</td>\n",
       "      <td>1</td>\n",
       "      <td>Yes</td>\n",
       "      <td>Private</td>\n",
       "      <td>Rural</td>\n",
       "      <td>105.92</td>\n",
       "      <td>32.5</td>\n",
       "      <td>never smoked</td>\n",
       "      <td>1</td>\n",
       "    </tr>\n",
       "    <tr>\n",
       "      <th>3</th>\n",
       "      <td>60182</td>\n",
       "      <td>Female</td>\n",
       "      <td>49.0</td>\n",
       "      <td>0</td>\n",
       "      <td>0</td>\n",
       "      <td>Yes</td>\n",
       "      <td>Private</td>\n",
       "      <td>Urban</td>\n",
       "      <td>171.23</td>\n",
       "      <td>34.4</td>\n",
       "      <td>smokes</td>\n",
       "      <td>1</td>\n",
       "    </tr>\n",
       "    <tr>\n",
       "      <th>4</th>\n",
       "      <td>1665</td>\n",
       "      <td>Female</td>\n",
       "      <td>79.0</td>\n",
       "      <td>1</td>\n",
       "      <td>0</td>\n",
       "      <td>Yes</td>\n",
       "      <td>Self-employed</td>\n",
       "      <td>Rural</td>\n",
       "      <td>174.12</td>\n",
       "      <td>24.0</td>\n",
       "      <td>never smoked</td>\n",
       "      <td>1</td>\n",
       "    </tr>\n",
       "  </tbody>\n",
       "</table>\n",
       "</div>"
      ],
      "text/plain": [
       "      id  gender   age  hypertension  heart_disease ever_married  \\\n",
       "0   9046    Male  67.0             0              1          Yes   \n",
       "1  51676  Female  61.0             0              0          Yes   \n",
       "2  31112    Male  80.0             0              1          Yes   \n",
       "3  60182  Female  49.0             0              0          Yes   \n",
       "4   1665  Female  79.0             1              0          Yes   \n",
       "\n",
       "       work_type Residence_type  avg_glucose_level   bmi   smoking_status  \\\n",
       "0        Private          Urban             228.69  36.6  formerly smoked   \n",
       "1  Self-employed          Rural             202.21   NaN     never smoked   \n",
       "2        Private          Rural             105.92  32.5     never smoked   \n",
       "3        Private          Urban             171.23  34.4           smokes   \n",
       "4  Self-employed          Rural             174.12  24.0     never smoked   \n",
       "\n",
       "   stroke  \n",
       "0       1  \n",
       "1       1  \n",
       "2       1  \n",
       "3       1  \n",
       "4       1  "
      ]
     },
     "execution_count": 101,
     "metadata": {},
     "output_type": "execute_result"
    }
   ],
   "source": [
    "stroke = pd.read_excel(r\"C:\\Users\\USER\\Desktop\\Data.xlsx\")\n",
    "stroke.head()"
   ]
  },
  {
   "cell_type": "code",
   "execution_count": 14,
   "metadata": {
    "scrolled": false
   },
   "outputs": [
    {
     "name": "stdout",
     "output_type": "stream",
     "text": [
      "(5109, 11)\n"
     ]
    }
   ],
   "source": [
    "print(stroke.shape)"
   ]
  },
  {
   "cell_type": "markdown",
   "metadata": {},
   "source": [
    "# <font color='blue'> 2. Data Cleaning </font>"
   ]
  },
  {
   "cell_type": "markdown",
   "metadata": {},
   "source": [
    "###  <font color='blue'> 2.1 Remove column 'ID' </font>"
   ]
  },
  {
   "cell_type": "code",
   "execution_count": 103,
   "metadata": {
    "scrolled": true
   },
   "outputs": [
    {
     "data": {
      "text/html": [
       "<div>\n",
       "<style scoped>\n",
       "    .dataframe tbody tr th:only-of-type {\n",
       "        vertical-align: middle;\n",
       "    }\n",
       "\n",
       "    .dataframe tbody tr th {\n",
       "        vertical-align: top;\n",
       "    }\n",
       "\n",
       "    .dataframe thead th {\n",
       "        text-align: right;\n",
       "    }\n",
       "</style>\n",
       "<table border=\"1\" class=\"dataframe\">\n",
       "  <thead>\n",
       "    <tr style=\"text-align: right;\">\n",
       "      <th></th>\n",
       "      <th>gender</th>\n",
       "      <th>age</th>\n",
       "      <th>hypertension</th>\n",
       "      <th>heart_disease</th>\n",
       "      <th>ever_married</th>\n",
       "      <th>work_type</th>\n",
       "      <th>Residence_type</th>\n",
       "      <th>avg_glucose_level</th>\n",
       "      <th>bmi</th>\n",
       "      <th>smoking_status</th>\n",
       "      <th>stroke</th>\n",
       "    </tr>\n",
       "  </thead>\n",
       "  <tbody>\n",
       "    <tr>\n",
       "      <th>0</th>\n",
       "      <td>Male</td>\n",
       "      <td>67.0</td>\n",
       "      <td>0</td>\n",
       "      <td>1</td>\n",
       "      <td>Yes</td>\n",
       "      <td>Private</td>\n",
       "      <td>Urban</td>\n",
       "      <td>228.69</td>\n",
       "      <td>36.6</td>\n",
       "      <td>formerly smoked</td>\n",
       "      <td>1</td>\n",
       "    </tr>\n",
       "    <tr>\n",
       "      <th>1</th>\n",
       "      <td>Female</td>\n",
       "      <td>61.0</td>\n",
       "      <td>0</td>\n",
       "      <td>0</td>\n",
       "      <td>Yes</td>\n",
       "      <td>Self-employed</td>\n",
       "      <td>Rural</td>\n",
       "      <td>202.21</td>\n",
       "      <td>NaN</td>\n",
       "      <td>never smoked</td>\n",
       "      <td>1</td>\n",
       "    </tr>\n",
       "    <tr>\n",
       "      <th>2</th>\n",
       "      <td>Male</td>\n",
       "      <td>80.0</td>\n",
       "      <td>0</td>\n",
       "      <td>1</td>\n",
       "      <td>Yes</td>\n",
       "      <td>Private</td>\n",
       "      <td>Rural</td>\n",
       "      <td>105.92</td>\n",
       "      <td>32.5</td>\n",
       "      <td>never smoked</td>\n",
       "      <td>1</td>\n",
       "    </tr>\n",
       "    <tr>\n",
       "      <th>3</th>\n",
       "      <td>Female</td>\n",
       "      <td>49.0</td>\n",
       "      <td>0</td>\n",
       "      <td>0</td>\n",
       "      <td>Yes</td>\n",
       "      <td>Private</td>\n",
       "      <td>Urban</td>\n",
       "      <td>171.23</td>\n",
       "      <td>34.4</td>\n",
       "      <td>smokes</td>\n",
       "      <td>1</td>\n",
       "    </tr>\n",
       "    <tr>\n",
       "      <th>4</th>\n",
       "      <td>Female</td>\n",
       "      <td>79.0</td>\n",
       "      <td>1</td>\n",
       "      <td>0</td>\n",
       "      <td>Yes</td>\n",
       "      <td>Self-employed</td>\n",
       "      <td>Rural</td>\n",
       "      <td>174.12</td>\n",
       "      <td>24.0</td>\n",
       "      <td>never smoked</td>\n",
       "      <td>1</td>\n",
       "    </tr>\n",
       "  </tbody>\n",
       "</table>\n",
       "</div>"
      ],
      "text/plain": [
       "   gender   age  hypertension  heart_disease ever_married      work_type  \\\n",
       "0    Male  67.0             0              1          Yes        Private   \n",
       "1  Female  61.0             0              0          Yes  Self-employed   \n",
       "2    Male  80.0             0              1          Yes        Private   \n",
       "3  Female  49.0             0              0          Yes        Private   \n",
       "4  Female  79.0             1              0          Yes  Self-employed   \n",
       "\n",
       "  Residence_type  avg_glucose_level   bmi   smoking_status  stroke  \n",
       "0          Urban             228.69  36.6  formerly smoked       1  \n",
       "1          Rural             202.21   NaN     never smoked       1  \n",
       "2          Rural             105.92  32.5     never smoked       1  \n",
       "3          Urban             171.23  34.4           smokes       1  \n",
       "4          Rural             174.12  24.0     never smoked       1  "
      ]
     },
     "execution_count": 103,
     "metadata": {},
     "output_type": "execute_result"
    }
   ],
   "source": [
    "stroke.drop(['id'], axis=1, inplace=True)\n",
    "stroke.head()"
   ]
  },
  {
   "cell_type": "markdown",
   "metadata": {},
   "source": [
    "###  <font color='blue'> 2.2 Change data types <pfont>"
   ]
  },
  {
   "cell_type": "code",
   "execution_count": 104,
   "metadata": {},
   "outputs": [
    {
     "data": {
      "text/plain": [
       "gender                object\n",
       "age                  float64\n",
       "hypertension           int64\n",
       "heart_disease          int64\n",
       "ever_married          object\n",
       "work_type             object\n",
       "Residence_type        object\n",
       "avg_glucose_level    float64\n",
       "bmi                  float64\n",
       "smoking_status        object\n",
       "stroke                 int64\n",
       "dtype: object"
      ]
     },
     "execution_count": 104,
     "metadata": {},
     "output_type": "execute_result"
    }
   ],
   "source": [
    "stroke.dtypes"
   ]
  },
  {
   "cell_type": "code",
   "execution_count": 163,
   "metadata": {},
   "outputs": [
    {
     "name": "stdout",
     "output_type": "stream",
     "text": [
      "gender                object\n",
      "age                  float64\n",
      "hypertension          object\n",
      "heart_disease         object\n",
      "ever_married          object\n",
      "work_type             object\n",
      "Residence_type        object\n",
      "avg_glucose_level    float64\n",
      "bmi                  float64\n",
      "smoking_status        object\n",
      "stroke                object\n",
      "dtype: object\n"
     ]
    }
   ],
   "source": [
    "convert_dict = {'hypertension': object, 'heart_disease': object, 'stroke': object}\n",
    "stroke = stroke.astype(convert_dict)\n",
    "print(stroke.dtypes)"
   ]
  },
  {
   "cell_type": "markdown",
   "metadata": {},
   "source": [
    "###  <font color='blue'> 2.3 Missing values imputation <pfont>"
   ]
  },
  {
   "cell_type": "code",
   "execution_count": 106,
   "metadata": {},
   "outputs": [
    {
     "name": "stdout",
     "output_type": "stream",
     "text": [
      "gender                 0\n",
      "age                    0\n",
      "hypertension           0\n",
      "heart_disease          0\n",
      "ever_married           0\n",
      "work_type              0\n",
      "Residence_type         0\n",
      "avg_glucose_level      0\n",
      "bmi                  201\n",
      "smoking_status         0\n",
      "stroke                 0\n",
      "dtype: int64\n"
     ]
    }
   ],
   "source": [
    "print(stroke.isna().sum())"
   ]
  },
  {
   "cell_type": "markdown",
   "metadata": {},
   "source": [
    "####  <font color='blue'> 2.3.1 Impute fields with bmi as NA by means </font>"
   ]
  },
  {
   "cell_type": "code",
   "execution_count": 107,
   "metadata": {},
   "outputs": [
    {
     "data": {
      "text/html": [
       "<div>\n",
       "<style scoped>\n",
       "    .dataframe tbody tr th:only-of-type {\n",
       "        vertical-align: middle;\n",
       "    }\n",
       "\n",
       "    .dataframe tbody tr th {\n",
       "        vertical-align: top;\n",
       "    }\n",
       "\n",
       "    .dataframe thead th {\n",
       "        text-align: right;\n",
       "    }\n",
       "</style>\n",
       "<table border=\"1\" class=\"dataframe\">\n",
       "  <thead>\n",
       "    <tr style=\"text-align: right;\">\n",
       "      <th></th>\n",
       "      <th>gender</th>\n",
       "      <th>age</th>\n",
       "      <th>hypertension</th>\n",
       "      <th>heart_disease</th>\n",
       "      <th>ever_married</th>\n",
       "      <th>work_type</th>\n",
       "      <th>Residence_type</th>\n",
       "      <th>avg_glucose_level</th>\n",
       "      <th>bmi</th>\n",
       "      <th>smoking_status</th>\n",
       "      <th>stroke</th>\n",
       "    </tr>\n",
       "  </thead>\n",
       "  <tbody>\n",
       "    <tr>\n",
       "      <th>0</th>\n",
       "      <td>Male</td>\n",
       "      <td>67.0</td>\n",
       "      <td>0</td>\n",
       "      <td>1</td>\n",
       "      <td>Yes</td>\n",
       "      <td>Private</td>\n",
       "      <td>Urban</td>\n",
       "      <td>228.69</td>\n",
       "      <td>36.6</td>\n",
       "      <td>formerly smoked</td>\n",
       "      <td>1</td>\n",
       "    </tr>\n",
       "    <tr>\n",
       "      <th>1</th>\n",
       "      <td>Female</td>\n",
       "      <td>61.0</td>\n",
       "      <td>0</td>\n",
       "      <td>0</td>\n",
       "      <td>Yes</td>\n",
       "      <td>Self-employed</td>\n",
       "      <td>Rural</td>\n",
       "      <td>202.21</td>\n",
       "      <td>28.9</td>\n",
       "      <td>never smoked</td>\n",
       "      <td>1</td>\n",
       "    </tr>\n",
       "    <tr>\n",
       "      <th>2</th>\n",
       "      <td>Male</td>\n",
       "      <td>80.0</td>\n",
       "      <td>0</td>\n",
       "      <td>1</td>\n",
       "      <td>Yes</td>\n",
       "      <td>Private</td>\n",
       "      <td>Rural</td>\n",
       "      <td>105.92</td>\n",
       "      <td>32.5</td>\n",
       "      <td>never smoked</td>\n",
       "      <td>1</td>\n",
       "    </tr>\n",
       "    <tr>\n",
       "      <th>3</th>\n",
       "      <td>Female</td>\n",
       "      <td>49.0</td>\n",
       "      <td>0</td>\n",
       "      <td>0</td>\n",
       "      <td>Yes</td>\n",
       "      <td>Private</td>\n",
       "      <td>Urban</td>\n",
       "      <td>171.23</td>\n",
       "      <td>34.4</td>\n",
       "      <td>smokes</td>\n",
       "      <td>1</td>\n",
       "    </tr>\n",
       "    <tr>\n",
       "      <th>4</th>\n",
       "      <td>Female</td>\n",
       "      <td>79.0</td>\n",
       "      <td>1</td>\n",
       "      <td>0</td>\n",
       "      <td>Yes</td>\n",
       "      <td>Self-employed</td>\n",
       "      <td>Rural</td>\n",
       "      <td>174.12</td>\n",
       "      <td>24.0</td>\n",
       "      <td>never smoked</td>\n",
       "      <td>1</td>\n",
       "    </tr>\n",
       "  </tbody>\n",
       "</table>\n",
       "</div>"
      ],
      "text/plain": [
       "   gender   age  hypertension  heart_disease ever_married      work_type  \\\n",
       "0    Male  67.0             0              1          Yes        Private   \n",
       "1  Female  61.0             0              0          Yes  Self-employed   \n",
       "2    Male  80.0             0              1          Yes        Private   \n",
       "3  Female  49.0             0              0          Yes        Private   \n",
       "4  Female  79.0             1              0          Yes  Self-employed   \n",
       "\n",
       "  Residence_type  avg_glucose_level   bmi   smoking_status  stroke  \n",
       "0          Urban             228.69  36.6  formerly smoked       1  \n",
       "1          Rural             202.21  28.9     never smoked       1  \n",
       "2          Rural             105.92  32.5     never smoked       1  \n",
       "3          Urban             171.23  34.4           smokes       1  \n",
       "4          Rural             174.12  24.0     never smoked       1  "
      ]
     },
     "execution_count": 107,
     "metadata": {},
     "output_type": "execute_result"
    }
   ],
   "source": [
    "stroke = stroke.fillna(round(stroke['bmi'].mean(), 1))\n",
    "stroke.head()"
   ]
  },
  {
   "cell_type": "code",
   "execution_count": 15,
   "metadata": {},
   "outputs": [
    {
     "name": "stdout",
     "output_type": "stream",
     "text": [
      "gender               0\n",
      "age                  0\n",
      "hypertension         0\n",
      "heart_disease        0\n",
      "ever_married         0\n",
      "work_type            0\n",
      "Residence_type       0\n",
      "avg_glucose_level    0\n",
      "bmi                  0\n",
      "smoking_status       0\n",
      "stroke               0\n",
      "dtype: int64\n"
     ]
    }
   ],
   "source": [
    "print(stroke.isna().sum())"
   ]
  },
  {
   "cell_type": "markdown",
   "metadata": {},
   "source": [
    "###  <font color='blue'> 2.4 Deal with Groups with a particularly small number of categorical variables </font>"
   ]
  },
  {
   "cell_type": "code",
   "execution_count": 109,
   "metadata": {},
   "outputs": [
    {
     "name": "stdout",
     "output_type": "stream",
     "text": [
      "Female    2994\n",
      "Male      2115\n",
      "Other        1\n",
      "Name: gender, dtype: int64\n",
      "0    4612\n",
      "1     498\n",
      "Name: hypertension, dtype: int64\n",
      "0    4834\n",
      "1     276\n",
      "Name: heart_disease, dtype: int64\n",
      "Yes    3353\n",
      "No     1757\n",
      "Name: ever_married, dtype: int64\n",
      "Private          2925\n",
      "Self-employed     819\n",
      "children          687\n",
      "Govt_job          657\n",
      "Never_worked       22\n",
      "Name: work_type, dtype: int64\n",
      "Urban    2596\n",
      "Rural    2514\n",
      "Name: Residence_type, dtype: int64\n",
      "never smoked       1892\n",
      "Unknown            1544\n",
      "formerly smoked     885\n",
      "smokes              789\n",
      "Name: smoking_status, dtype: int64\n",
      "0    4861\n",
      "1     249\n",
      "Name: stroke, dtype: int64\n"
     ]
    }
   ],
   "source": [
    "print(stroke['gender'].value_counts())           # special handling required: Other 1\n",
    "print(stroke['hypertension'].value_counts())\n",
    "print(stroke['heart_disease'].value_counts())\n",
    "print(stroke['ever_married'].value_counts())\n",
    "print(stroke['work_type'].value_counts())        # special handling required: Never_worked 22\n",
    "print(stroke['Residence_type'].value_counts())\n",
    "print(stroke['smoking_status'].value_counts())\n",
    "print(stroke['stroke'].value_counts())"
   ]
  },
  {
   "cell_type": "markdown",
   "metadata": {},
   "source": [
    "####  <font color='blue'> 2.4.1 Delete a data 'gender = Other' </fomt>"
   ]
  },
  {
   "cell_type": "code",
   "execution_count": 110,
   "metadata": {},
   "outputs": [
    {
     "data": {
      "text/html": [
       "<div>\n",
       "<style scoped>\n",
       "    .dataframe tbody tr th:only-of-type {\n",
       "        vertical-align: middle;\n",
       "    }\n",
       "\n",
       "    .dataframe tbody tr th {\n",
       "        vertical-align: top;\n",
       "    }\n",
       "\n",
       "    .dataframe thead th {\n",
       "        text-align: right;\n",
       "    }\n",
       "</style>\n",
       "<table border=\"1\" class=\"dataframe\">\n",
       "  <thead>\n",
       "    <tr style=\"text-align: right;\">\n",
       "      <th></th>\n",
       "      <th>gender</th>\n",
       "      <th>age</th>\n",
       "      <th>hypertension</th>\n",
       "      <th>heart_disease</th>\n",
       "      <th>ever_married</th>\n",
       "      <th>work_type</th>\n",
       "      <th>Residence_type</th>\n",
       "      <th>avg_glucose_level</th>\n",
       "      <th>bmi</th>\n",
       "      <th>smoking_status</th>\n",
       "      <th>stroke</th>\n",
       "    </tr>\n",
       "  </thead>\n",
       "  <tbody>\n",
       "    <tr>\n",
       "      <th>3116</th>\n",
       "      <td>Other</td>\n",
       "      <td>26.0</td>\n",
       "      <td>0</td>\n",
       "      <td>0</td>\n",
       "      <td>No</td>\n",
       "      <td>Private</td>\n",
       "      <td>Rural</td>\n",
       "      <td>143.33</td>\n",
       "      <td>22.4</td>\n",
       "      <td>formerly smoked</td>\n",
       "      <td>0</td>\n",
       "    </tr>\n",
       "  </tbody>\n",
       "</table>\n",
       "</div>"
      ],
      "text/plain": [
       "     gender   age  hypertension  heart_disease ever_married work_type  \\\n",
       "3116  Other  26.0             0              0           No   Private   \n",
       "\n",
       "     Residence_type  avg_glucose_level   bmi   smoking_status  stroke  \n",
       "3116          Rural             143.33  22.4  formerly smoked       0  "
      ]
     },
     "execution_count": 110,
     "metadata": {},
     "output_type": "execute_result"
    }
   ],
   "source": [
    "stroke[stroke['gender'] == 'Other']"
   ]
  },
  {
   "cell_type": "code",
   "execution_count": 111,
   "metadata": {},
   "outputs": [
    {
     "name": "stdout",
     "output_type": "stream",
     "text": [
      "(5109, 11)\n",
      "Female    2994\n",
      "Male      2115\n",
      "Name: gender, dtype: int64\n"
     ]
    }
   ],
   "source": [
    "stroke.drop([3116], axis=0, inplace=True)\n",
    "print(stroke.shape)\n",
    "print(stroke['gender'].value_counts())"
   ]
  },
  {
   "cell_type": "markdown",
   "metadata": {},
   "source": [
    "####  <font color='blue'> 2.4.2 Merge 'work_type=Never_worked' and 'work_type=children' because the number of 'work_type=Never_worked' is too small  </font> "
   ]
  },
  {
   "cell_type": "code",
   "execution_count": 112,
   "metadata": {},
   "outputs": [
    {
     "data": {
      "text/html": [
       "<div>\n",
       "<style scoped>\n",
       "    .dataframe tbody tr th:only-of-type {\n",
       "        vertical-align: middle;\n",
       "    }\n",
       "\n",
       "    .dataframe tbody tr th {\n",
       "        vertical-align: top;\n",
       "    }\n",
       "\n",
       "    .dataframe thead th {\n",
       "        text-align: right;\n",
       "    }\n",
       "</style>\n",
       "<table border=\"1\" class=\"dataframe\">\n",
       "  <thead>\n",
       "    <tr style=\"text-align: right;\">\n",
       "      <th></th>\n",
       "      <th>gender</th>\n",
       "      <th>age</th>\n",
       "      <th>hypertension</th>\n",
       "      <th>heart_disease</th>\n",
       "      <th>ever_married</th>\n",
       "      <th>work_type</th>\n",
       "      <th>Residence_type</th>\n",
       "      <th>avg_glucose_level</th>\n",
       "      <th>bmi</th>\n",
       "      <th>smoking_status</th>\n",
       "      <th>stroke</th>\n",
       "    </tr>\n",
       "  </thead>\n",
       "  <tbody>\n",
       "    <tr>\n",
       "      <th>253</th>\n",
       "      <td>Male</td>\n",
       "      <td>14.0</td>\n",
       "      <td>0</td>\n",
       "      <td>0</td>\n",
       "      <td>No</td>\n",
       "      <td>Never_worked</td>\n",
       "      <td>Rural</td>\n",
       "      <td>161.28</td>\n",
       "      <td>19.1</td>\n",
       "      <td>Unknown</td>\n",
       "      <td>0</td>\n",
       "    </tr>\n",
       "    <tr>\n",
       "      <th>603</th>\n",
       "      <td>Male</td>\n",
       "      <td>23.0</td>\n",
       "      <td>0</td>\n",
       "      <td>0</td>\n",
       "      <td>No</td>\n",
       "      <td>Never_worked</td>\n",
       "      <td>Urban</td>\n",
       "      <td>125.26</td>\n",
       "      <td>18.7</td>\n",
       "      <td>never smoked</td>\n",
       "      <td>0</td>\n",
       "    </tr>\n",
       "    <tr>\n",
       "      <th>886</th>\n",
       "      <td>Female</td>\n",
       "      <td>19.0</td>\n",
       "      <td>0</td>\n",
       "      <td>0</td>\n",
       "      <td>No</td>\n",
       "      <td>Never_worked</td>\n",
       "      <td>Urban</td>\n",
       "      <td>86.96</td>\n",
       "      <td>25.8</td>\n",
       "      <td>never smoked</td>\n",
       "      <td>0</td>\n",
       "    </tr>\n",
       "    <tr>\n",
       "      <th>939</th>\n",
       "      <td>Male</td>\n",
       "      <td>13.0</td>\n",
       "      <td>0</td>\n",
       "      <td>0</td>\n",
       "      <td>No</td>\n",
       "      <td>Never_worked</td>\n",
       "      <td>Rural</td>\n",
       "      <td>111.48</td>\n",
       "      <td>20.8</td>\n",
       "      <td>Unknown</td>\n",
       "      <td>0</td>\n",
       "    </tr>\n",
       "    <tr>\n",
       "      <th>959</th>\n",
       "      <td>Male</td>\n",
       "      <td>17.0</td>\n",
       "      <td>0</td>\n",
       "      <td>0</td>\n",
       "      <td>No</td>\n",
       "      <td>Never_worked</td>\n",
       "      <td>Urban</td>\n",
       "      <td>113.25</td>\n",
       "      <td>23.4</td>\n",
       "      <td>never smoked</td>\n",
       "      <td>0</td>\n",
       "    </tr>\n",
       "    <tr>\n",
       "      <th>1462</th>\n",
       "      <td>Male</td>\n",
       "      <td>17.0</td>\n",
       "      <td>0</td>\n",
       "      <td>0</td>\n",
       "      <td>No</td>\n",
       "      <td>Never_worked</td>\n",
       "      <td>Rural</td>\n",
       "      <td>61.01</td>\n",
       "      <td>32.5</td>\n",
       "      <td>Unknown</td>\n",
       "      <td>0</td>\n",
       "    </tr>\n",
       "    <tr>\n",
       "      <th>1789</th>\n",
       "      <td>Female</td>\n",
       "      <td>13.0</td>\n",
       "      <td>0</td>\n",
       "      <td>0</td>\n",
       "      <td>No</td>\n",
       "      <td>Never_worked</td>\n",
       "      <td>Urban</td>\n",
       "      <td>70.93</td>\n",
       "      <td>22.9</td>\n",
       "      <td>never smoked</td>\n",
       "      <td>0</td>\n",
       "    </tr>\n",
       "    <tr>\n",
       "      <th>1922</th>\n",
       "      <td>Male</td>\n",
       "      <td>16.0</td>\n",
       "      <td>0</td>\n",
       "      <td>0</td>\n",
       "      <td>No</td>\n",
       "      <td>Never_worked</td>\n",
       "      <td>Urban</td>\n",
       "      <td>59.99</td>\n",
       "      <td>28.2</td>\n",
       "      <td>never smoked</td>\n",
       "      <td>0</td>\n",
       "    </tr>\n",
       "    <tr>\n",
       "      <th>2346</th>\n",
       "      <td>Female</td>\n",
       "      <td>14.0</td>\n",
       "      <td>0</td>\n",
       "      <td>0</td>\n",
       "      <td>No</td>\n",
       "      <td>Never_worked</td>\n",
       "      <td>Urban</td>\n",
       "      <td>148.37</td>\n",
       "      <td>22.7</td>\n",
       "      <td>never smoked</td>\n",
       "      <td>0</td>\n",
       "    </tr>\n",
       "    <tr>\n",
       "      <th>2721</th>\n",
       "      <td>Female</td>\n",
       "      <td>17.0</td>\n",
       "      <td>0</td>\n",
       "      <td>0</td>\n",
       "      <td>No</td>\n",
       "      <td>Never_worked</td>\n",
       "      <td>Rural</td>\n",
       "      <td>88.57</td>\n",
       "      <td>31.1</td>\n",
       "      <td>never smoked</td>\n",
       "      <td>0</td>\n",
       "    </tr>\n",
       "    <tr>\n",
       "      <th>2740</th>\n",
       "      <td>Male</td>\n",
       "      <td>15.0</td>\n",
       "      <td>0</td>\n",
       "      <td>0</td>\n",
       "      <td>No</td>\n",
       "      <td>Never_worked</td>\n",
       "      <td>Rural</td>\n",
       "      <td>79.59</td>\n",
       "      <td>28.4</td>\n",
       "      <td>Unknown</td>\n",
       "      <td>0</td>\n",
       "    </tr>\n",
       "    <tr>\n",
       "      <th>2781</th>\n",
       "      <td>Female</td>\n",
       "      <td>16.0</td>\n",
       "      <td>0</td>\n",
       "      <td>0</td>\n",
       "      <td>No</td>\n",
       "      <td>Never_worked</td>\n",
       "      <td>Urban</td>\n",
       "      <td>84.40</td>\n",
       "      <td>25.9</td>\n",
       "      <td>never smoked</td>\n",
       "      <td>0</td>\n",
       "    </tr>\n",
       "    <tr>\n",
       "      <th>2917</th>\n",
       "      <td>Female</td>\n",
       "      <td>18.0</td>\n",
       "      <td>0</td>\n",
       "      <td>0</td>\n",
       "      <td>No</td>\n",
       "      <td>Never_worked</td>\n",
       "      <td>Urban</td>\n",
       "      <td>82.36</td>\n",
       "      <td>22.7</td>\n",
       "      <td>Unknown</td>\n",
       "      <td>0</td>\n",
       "    </tr>\n",
       "    <tr>\n",
       "      <th>3196</th>\n",
       "      <td>Male</td>\n",
       "      <td>14.0</td>\n",
       "      <td>0</td>\n",
       "      <td>0</td>\n",
       "      <td>No</td>\n",
       "      <td>Never_worked</td>\n",
       "      <td>Urban</td>\n",
       "      <td>137.91</td>\n",
       "      <td>41.8</td>\n",
       "      <td>never smoked</td>\n",
       "      <td>0</td>\n",
       "    </tr>\n",
       "    <tr>\n",
       "      <th>3468</th>\n",
       "      <td>Male</td>\n",
       "      <td>17.0</td>\n",
       "      <td>0</td>\n",
       "      <td>0</td>\n",
       "      <td>No</td>\n",
       "      <td>Never_worked</td>\n",
       "      <td>Rural</td>\n",
       "      <td>124.38</td>\n",
       "      <td>31.2</td>\n",
       "      <td>never smoked</td>\n",
       "      <td>0</td>\n",
       "    </tr>\n",
       "    <tr>\n",
       "      <th>3972</th>\n",
       "      <td>Male</td>\n",
       "      <td>15.0</td>\n",
       "      <td>0</td>\n",
       "      <td>0</td>\n",
       "      <td>No</td>\n",
       "      <td>Never_worked</td>\n",
       "      <td>Urban</td>\n",
       "      <td>64.29</td>\n",
       "      <td>16.7</td>\n",
       "      <td>Unknown</td>\n",
       "      <td>0</td>\n",
       "    </tr>\n",
       "    <tr>\n",
       "      <th>4068</th>\n",
       "      <td>Female</td>\n",
       "      <td>16.0</td>\n",
       "      <td>0</td>\n",
       "      <td>0</td>\n",
       "      <td>No</td>\n",
       "      <td>Never_worked</td>\n",
       "      <td>Urban</td>\n",
       "      <td>102.10</td>\n",
       "      <td>27.1</td>\n",
       "      <td>never smoked</td>\n",
       "      <td>0</td>\n",
       "    </tr>\n",
       "    <tr>\n",
       "      <th>4160</th>\n",
       "      <td>Female</td>\n",
       "      <td>18.0</td>\n",
       "      <td>0</td>\n",
       "      <td>0</td>\n",
       "      <td>No</td>\n",
       "      <td>Never_worked</td>\n",
       "      <td>Urban</td>\n",
       "      <td>81.73</td>\n",
       "      <td>21.6</td>\n",
       "      <td>never smoked</td>\n",
       "      <td>0</td>\n",
       "    </tr>\n",
       "    <tr>\n",
       "      <th>4410</th>\n",
       "      <td>Male</td>\n",
       "      <td>13.0</td>\n",
       "      <td>0</td>\n",
       "      <td>0</td>\n",
       "      <td>No</td>\n",
       "      <td>Never_worked</td>\n",
       "      <td>Urban</td>\n",
       "      <td>85.08</td>\n",
       "      <td>14.6</td>\n",
       "      <td>Unknown</td>\n",
       "      <td>0</td>\n",
       "    </tr>\n",
       "    <tr>\n",
       "      <th>4611</th>\n",
       "      <td>Female</td>\n",
       "      <td>17.0</td>\n",
       "      <td>0</td>\n",
       "      <td>0</td>\n",
       "      <td>No</td>\n",
       "      <td>Never_worked</td>\n",
       "      <td>Urban</td>\n",
       "      <td>78.08</td>\n",
       "      <td>44.9</td>\n",
       "      <td>never smoked</td>\n",
       "      <td>0</td>\n",
       "    </tr>\n",
       "    <tr>\n",
       "      <th>4772</th>\n",
       "      <td>Female</td>\n",
       "      <td>18.0</td>\n",
       "      <td>0</td>\n",
       "      <td>0</td>\n",
       "      <td>No</td>\n",
       "      <td>Never_worked</td>\n",
       "      <td>Urban</td>\n",
       "      <td>97.65</td>\n",
       "      <td>21.5</td>\n",
       "      <td>Unknown</td>\n",
       "      <td>0</td>\n",
       "    </tr>\n",
       "    <tr>\n",
       "      <th>4785</th>\n",
       "      <td>Female</td>\n",
       "      <td>16.0</td>\n",
       "      <td>0</td>\n",
       "      <td>0</td>\n",
       "      <td>No</td>\n",
       "      <td>Never_worked</td>\n",
       "      <td>Rural</td>\n",
       "      <td>68.27</td>\n",
       "      <td>20.4</td>\n",
       "      <td>never smoked</td>\n",
       "      <td>0</td>\n",
       "    </tr>\n",
       "  </tbody>\n",
       "</table>\n",
       "</div>"
      ],
      "text/plain": [
       "      gender   age  hypertension  heart_disease ever_married     work_type  \\\n",
       "253     Male  14.0             0              0           No  Never_worked   \n",
       "603     Male  23.0             0              0           No  Never_worked   \n",
       "886   Female  19.0             0              0           No  Never_worked   \n",
       "939     Male  13.0             0              0           No  Never_worked   \n",
       "959     Male  17.0             0              0           No  Never_worked   \n",
       "1462    Male  17.0             0              0           No  Never_worked   \n",
       "1789  Female  13.0             0              0           No  Never_worked   \n",
       "1922    Male  16.0             0              0           No  Never_worked   \n",
       "2346  Female  14.0             0              0           No  Never_worked   \n",
       "2721  Female  17.0             0              0           No  Never_worked   \n",
       "2740    Male  15.0             0              0           No  Never_worked   \n",
       "2781  Female  16.0             0              0           No  Never_worked   \n",
       "2917  Female  18.0             0              0           No  Never_worked   \n",
       "3196    Male  14.0             0              0           No  Never_worked   \n",
       "3468    Male  17.0             0              0           No  Never_worked   \n",
       "3972    Male  15.0             0              0           No  Never_worked   \n",
       "4068  Female  16.0             0              0           No  Never_worked   \n",
       "4160  Female  18.0             0              0           No  Never_worked   \n",
       "4410    Male  13.0             0              0           No  Never_worked   \n",
       "4611  Female  17.0             0              0           No  Never_worked   \n",
       "4772  Female  18.0             0              0           No  Never_worked   \n",
       "4785  Female  16.0             0              0           No  Never_worked   \n",
       "\n",
       "     Residence_type  avg_glucose_level   bmi smoking_status  stroke  \n",
       "253           Rural             161.28  19.1        Unknown       0  \n",
       "603           Urban             125.26  18.7   never smoked       0  \n",
       "886           Urban              86.96  25.8   never smoked       0  \n",
       "939           Rural             111.48  20.8        Unknown       0  \n",
       "959           Urban             113.25  23.4   never smoked       0  \n",
       "1462          Rural              61.01  32.5        Unknown       0  \n",
       "1789          Urban              70.93  22.9   never smoked       0  \n",
       "1922          Urban              59.99  28.2   never smoked       0  \n",
       "2346          Urban             148.37  22.7   never smoked       0  \n",
       "2721          Rural              88.57  31.1   never smoked       0  \n",
       "2740          Rural              79.59  28.4        Unknown       0  \n",
       "2781          Urban              84.40  25.9   never smoked       0  \n",
       "2917          Urban              82.36  22.7        Unknown       0  \n",
       "3196          Urban             137.91  41.8   never smoked       0  \n",
       "3468          Rural             124.38  31.2   never smoked       0  \n",
       "3972          Urban              64.29  16.7        Unknown       0  \n",
       "4068          Urban             102.10  27.1   never smoked       0  \n",
       "4160          Urban              81.73  21.6   never smoked       0  \n",
       "4410          Urban              85.08  14.6        Unknown       0  \n",
       "4611          Urban              78.08  44.9   never smoked       0  \n",
       "4772          Urban              97.65  21.5        Unknown       0  \n",
       "4785          Rural              68.27  20.4   never smoked       0  "
      ]
     },
     "execution_count": 112,
     "metadata": {},
     "output_type": "execute_result"
    }
   ],
   "source": [
    "stroke[stroke['work_type'] == 'Never_worked']   # It seems that they are very young and can be merged with children"
   ]
  },
  {
   "cell_type": "code",
   "execution_count": 16,
   "metadata": {},
   "outputs": [
    {
     "name": "stdout",
     "output_type": "stream",
     "text": [
      "Private          2924\n",
      "Self-employed     819\n",
      "children          709\n",
      "Govt_job          657\n",
      "Name: work_type, dtype: int64\n"
     ]
    }
   ],
   "source": [
    "stroke['work_type'].replace('Never_worked', 'children', inplace=True)\n",
    "print(stroke['work_type'].value_counts()) "
   ]
  },
  {
   "cell_type": "markdown",
   "metadata": {},
   "source": [
    "# <font color='blue'> 3. Descriptive Statistics </font>"
   ]
  },
  {
   "cell_type": "markdown",
   "metadata": {},
   "source": [
    "###  <font color='blue'> 3.1 Continuous variables </font>"
   ]
  },
  {
   "cell_type": "markdown",
   "metadata": {},
   "source": [
    "####  <font color='blue'> 3.1.1 Quartile & Mean </font>"
   ]
  },
  {
   "cell_type": "code",
   "execution_count": 128,
   "metadata": {
    "scrolled": true
   },
   "outputs": [
    {
     "data": {
      "text/html": [
       "<div>\n",
       "<style scoped>\n",
       "    .dataframe tbody tr th:only-of-type {\n",
       "        vertical-align: middle;\n",
       "    }\n",
       "\n",
       "    .dataframe tbody tr th {\n",
       "        vertical-align: top;\n",
       "    }\n",
       "\n",
       "    .dataframe thead th {\n",
       "        text-align: right;\n",
       "    }\n",
       "</style>\n",
       "<table border=\"1\" class=\"dataframe\">\n",
       "  <thead>\n",
       "    <tr style=\"text-align: right;\">\n",
       "      <th></th>\n",
       "      <th>count</th>\n",
       "      <th>mean</th>\n",
       "      <th>std</th>\n",
       "      <th>min</th>\n",
       "      <th>25%</th>\n",
       "      <th>50%</th>\n",
       "      <th>75%</th>\n",
       "      <th>max</th>\n",
       "    </tr>\n",
       "  </thead>\n",
       "  <tbody>\n",
       "    <tr>\n",
       "      <th>age</th>\n",
       "      <td>5109.0</td>\n",
       "      <td>43.229986</td>\n",
       "      <td>22.613575</td>\n",
       "      <td>0.08</td>\n",
       "      <td>25.00</td>\n",
       "      <td>45.00</td>\n",
       "      <td>61.00</td>\n",
       "      <td>82.00</td>\n",
       "    </tr>\n",
       "    <tr>\n",
       "      <th>avg_glucose_level</th>\n",
       "      <td>5109.0</td>\n",
       "      <td>106.140399</td>\n",
       "      <td>45.285004</td>\n",
       "      <td>55.12</td>\n",
       "      <td>77.24</td>\n",
       "      <td>91.88</td>\n",
       "      <td>114.09</td>\n",
       "      <td>271.74</td>\n",
       "    </tr>\n",
       "    <tr>\n",
       "      <th>bmi</th>\n",
       "      <td>5109.0</td>\n",
       "      <td>28.894774</td>\n",
       "      <td>7.698235</td>\n",
       "      <td>10.30</td>\n",
       "      <td>23.80</td>\n",
       "      <td>28.40</td>\n",
       "      <td>32.80</td>\n",
       "      <td>97.60</td>\n",
       "    </tr>\n",
       "  </tbody>\n",
       "</table>\n",
       "</div>"
      ],
      "text/plain": [
       "                    count        mean        std    min    25%    50%     75%  \\\n",
       "age                5109.0   43.229986  22.613575   0.08  25.00  45.00   61.00   \n",
       "avg_glucose_level  5109.0  106.140399  45.285004  55.12  77.24  91.88  114.09   \n",
       "bmi                5109.0   28.894774   7.698235  10.30  23.80  28.40   32.80   \n",
       "\n",
       "                      max  \n",
       "age                 82.00  \n",
       "avg_glucose_level  271.74  \n",
       "bmi                 97.60  "
      ]
     },
     "execution_count": 128,
     "metadata": {},
     "output_type": "execute_result"
    }
   ],
   "source": [
    "stroke.select_dtypes(include=['number']).describe().T"
   ]
  },
  {
   "cell_type": "markdown",
   "metadata": {},
   "source": [
    "####  <font color='blue'> 3.1.2 Skewness & Kurtosis </font>"
   ]
  },
  {
   "cell_type": "code",
   "execution_count": 93,
   "metadata": {},
   "outputs": [],
   "source": [
    "from scipy import stats"
   ]
  },
  {
   "cell_type": "code",
   "execution_count": 129,
   "metadata": {
    "scrolled": true
   },
   "outputs": [
    {
     "name": "stdout",
     "output_type": "stream",
     "text": [
      "[-0.13738984  1.57235351  1.076038  ]\n"
     ]
    }
   ],
   "source": [
    "print(stats.skew(stroke.select_dtypes(include=['number'])))"
   ]
  },
  {
   "cell_type": "code",
   "execution_count": 130,
   "metadata": {},
   "outputs": [
    {
     "name": "stdout",
     "output_type": "stream",
     "text": [
      "[-0.99113555  1.6789019   3.61793282]\n"
     ]
    }
   ],
   "source": [
    "print(stats.kurtosis(stroke.select_dtypes(include=['number'])))"
   ]
  },
  {
   "cell_type": "markdown",
   "metadata": {},
   "source": [
    "####  <font color='blue'> 3.1.3 Correlation coefficient </font>"
   ]
  },
  {
   "cell_type": "code",
   "execution_count": 131,
   "metadata": {
    "scrolled": true
   },
   "outputs": [
    {
     "data": {
      "text/html": [
       "<div>\n",
       "<style scoped>\n",
       "    .dataframe tbody tr th:only-of-type {\n",
       "        vertical-align: middle;\n",
       "    }\n",
       "\n",
       "    .dataframe tbody tr th {\n",
       "        vertical-align: top;\n",
       "    }\n",
       "\n",
       "    .dataframe thead th {\n",
       "        text-align: right;\n",
       "    }\n",
       "</style>\n",
       "<table border=\"1\" class=\"dataframe\">\n",
       "  <thead>\n",
       "    <tr style=\"text-align: right;\">\n",
       "      <th></th>\n",
       "      <th>age</th>\n",
       "      <th>avg_glucose_level</th>\n",
       "      <th>bmi</th>\n",
       "    </tr>\n",
       "  </thead>\n",
       "  <tbody>\n",
       "    <tr>\n",
       "      <th>age</th>\n",
       "      <td>1.0</td>\n",
       "      <td>0.2</td>\n",
       "      <td>0.3</td>\n",
       "    </tr>\n",
       "    <tr>\n",
       "      <th>avg_glucose_level</th>\n",
       "      <td>0.2</td>\n",
       "      <td>1.0</td>\n",
       "      <td>0.2</td>\n",
       "    </tr>\n",
       "    <tr>\n",
       "      <th>bmi</th>\n",
       "      <td>0.3</td>\n",
       "      <td>0.2</td>\n",
       "      <td>1.0</td>\n",
       "    </tr>\n",
       "  </tbody>\n",
       "</table>\n",
       "</div>"
      ],
      "text/plain": [
       "                   age  avg_glucose_level  bmi\n",
       "age                1.0                0.2  0.3\n",
       "avg_glucose_level  0.2                1.0  0.2\n",
       "bmi                0.3                0.2  1.0"
      ]
     },
     "execution_count": 131,
     "metadata": {},
     "output_type": "execute_result"
    }
   ],
   "source": [
    "round(stroke.select_dtypes(include=['number']).corr(method ='pearson'), 1)"
   ]
  },
  {
   "cell_type": "code",
   "execution_count": 86,
   "metadata": {},
   "outputs": [],
   "source": [
    "import matplotlib as mpl\n",
    "import matplotlib.pyplot as plt\n",
    "import seaborn as sns"
   ]
  },
  {
   "cell_type": "code",
   "execution_count": 132,
   "metadata": {},
   "outputs": [
    {
     "data": {
      "image/png": "[encoded data removed]",
      "text/plain": [
       "<Figure size 324x324 with 12 Axes>"
      ]
     },
     "metadata": {
      "needs_background": "light"
     },
     "output_type": "display_data"
    }
   ],
   "source": [
    "sns.pairplot(stroke.select_dtypes(include=['number']), height=1.5, \n",
    "             plot_kws={'color':'red', 'edgecolor':'red', 'alpha':0.1},\n",
    "             diag_kws={'color':'blue', 'edgecolor':'blue', 'alpha':0.6})\n",
    "plt.show()"
   ]
  },
  {
   "cell_type": "markdown",
   "metadata": {},
   "source": [
    "###  <font color='blue'> 3.2 Categorical Variables </font>"
   ]
  },
  {
   "cell_type": "markdown",
   "metadata": {},
   "source": [
    "#### <font color='blue'> 3.2.1 Count & Proportion for each group of categorical variables </font>"
   ]
  },
  {
   "cell_type": "code",
   "execution_count": 158,
   "metadata": {},
   "outputs": [
    {
     "name": "stdout",
     "output_type": "stream",
     "text": [
      "        gender  gender\n",
      "Female    2994    59.0\n",
      "Male      2115    41.0\n",
      "-----------------------------------------------\n",
      "   hypertension  hypertension\n",
      "0          4611          90.0\n",
      "1           498          10.0\n",
      "-----------------------------------------------\n",
      "   heart_disease  heart_disease\n",
      "0           4833           95.0\n",
      "1            276            5.0\n",
      "-----------------------------------------------\n",
      "     ever_married  ever_married\n",
      "Yes          3353          66.0\n",
      "No           1756          34.0\n",
      "-----------------------------------------------\n",
      "               work_type  work_type\n",
      "Private             2924       57.0\n",
      "Self-employed        819       16.0\n",
      "children             709       14.0\n",
      "Govt_job             657       13.0\n",
      "-----------------------------------------------\n",
      "       Residence_type  Residence_type\n",
      "Urban            2596            51.0\n",
      "Rural            2513            49.0\n",
      "-----------------------------------------------\n",
      "                 smoking_status  smoking_status\n",
      "never smoked               1892            37.0\n",
      "Unknown                    1544            30.0\n",
      "formerly smoked             884            17.0\n",
      "smokes                      789            15.0\n",
      "-----------------------------------------------\n",
      "   stroke  stroke\n",
      "0    4860    95.0\n",
      "1     249     5.0\n",
      "-----------------------------------------------\n"
     ]
    }
   ],
   "source": [
    "for i in stroke.columns:\n",
    "    if stroke[i].dtype == object:\n",
    "        precent = pd.DataFrame(round(stroke[i].value_counts(normalize=True)*100))\n",
    "        count = pd.DataFrame(stroke[i].value_counts())\n",
    "        result = pd.concat([count, precent], axis=1)\n",
    "        print(result)\n",
    "        print('-----------------------------------------------')"
   ]
  },
  {
   "cell_type": "code",
   "execution_count": 4,
   "metadata": {
    "scrolled": false
   },
   "outputs": [
    {
     "name": "stdout",
     "output_type": "stream",
     "text": [
      "(5110, 12)\n"
     ]
    }
   ],
   "source": [
    "print(stroke.shape)"
   ]
  },
  {
   "cell_type": "markdown",
   "metadata": {},
   "source": [
    "#### <font color='blue'> 3.2.2 Relationship between categorical variables and stroke: Chi-square test </font>\n",
    "*  <font color='blue'> To determine if Fisher's exact test is needed, contingency table for 'hypertension' and 'heart disease' are required as they have very uneven proportions between groups  </font>"
   ]
  },
  {
   "cell_type": "code",
   "execution_count": 169,
   "metadata": {
    "scrolled": true
   },
   "outputs": [
    {
     "name": "stdout",
     "output_type": "stream",
     "text": [
      "stroke           0    1\n",
      "hypertension           \n",
      "0             4428  183\n",
      "1              432   66\n"
     ]
    }
   ],
   "source": [
    "HS = pd.crosstab(stroke['hypertension'], stroke['stroke'])\n",
    "print(HS)"
   ]
  },
  {
   "cell_type": "code",
   "execution_count": 168,
   "metadata": {
    "scrolled": false
   },
   "outputs": [
    {
     "data": {
      "text/plain": [
       "(81.57314462043591,\n",
       " 1.688936253410575e-19,\n",
       " 1,\n",
       " array([[4386.27128597,  224.72871403],\n",
       "        [ 473.72871403,   24.27128597]]))"
      ]
     },
     "execution_count": 168,
     "metadata": {},
     "output_type": "execute_result"
    }
   ],
   "source": [
    "stats.chi2_contingency(HS)"
   ]
  },
  {
   "cell_type": "code",
   "execution_count": 170,
   "metadata": {},
   "outputs": [
    {
     "name": "stdout",
     "output_type": "stream",
     "text": [
      "stroke            0    1\n",
      "heart_disease           \n",
      "0              4631  202\n",
      "1               229   47\n"
     ]
    }
   ],
   "source": [
    "HD = pd.crosstab(stroke['heart_disease'], stroke['stroke'])\n",
    "print(HD)"
   ]
  },
  {
   "cell_type": "code",
   "execution_count": 171,
   "metadata": {
    "scrolled": false
   },
   "outputs": [
    {
     "data": {
      "text/plain": [
       "(90.22943664078221,\n",
       " 2.120831133146208e-21,\n",
       " 1,\n",
       " array([[4597.45155608,  235.54844392],\n",
       "        [ 262.54844392,   13.45155608]]))"
      ]
     },
     "execution_count": 171,
     "metadata": {},
     "output_type": "execute_result"
    }
   ],
   "source": [
    "stats.chi2_contingency(HD)"
   ]
  },
  {
   "cell_type": "code",
   "execution_count": 174,
   "metadata": {},
   "outputs": [
    {
     "data": {
      "text/plain": [
       "(0.340002536046177,\n",
       " 0.5598277580669416,\n",
       " 1,\n",
       " array([[2848.07985907,  145.92014093],\n",
       "        [2011.92014093,  103.07985907]]))"
      ]
     },
     "execution_count": 174,
     "metadata": {},
     "output_type": "execute_result"
    }
   ],
   "source": [
    "Other1 = pd.crosstab(stroke['gender'], stroke['stroke'])\n",
    "stats.chi2_contingency(Other1)"
   ]
  },
  {
   "cell_type": "code",
   "execution_count": 175,
   "metadata": {
    "scrolled": true
   },
   "outputs": [
    {
     "data": {
      "text/plain": [
       "(58.86780922483486,\n",
       " 1.6862856191673454e-14,\n",
       " 1,\n",
       " array([[1670.41691133,   85.58308867],\n",
       "        [3189.58308867,  163.41691133]]))"
      ]
     },
     "execution_count": 175,
     "metadata": {},
     "output_type": "execute_result"
    }
   ],
   "source": [
    "Other2 = pd.crosstab(stroke['ever_married'], stroke['stroke'])\n",
    "stats.chi2_contingency(Other2)"
   ]
  },
  {
   "cell_type": "code",
   "execution_count": 176,
   "metadata": {},
   "outputs": [
    {
     "data": {
      "text/plain": [
       "(49.15525171710789,\n",
       " 1.2088650637759443e-10,\n",
       " 3,\n",
       " array([[ 624.97944803,   32.02055197],\n",
       "        [2781.49148561,  142.50851439],\n",
       "        [ 779.08396947,   39.91603053],\n",
       "        [ 674.44509689,   34.55490311]]))"
      ]
     },
     "execution_count": 176,
     "metadata": {},
     "output_type": "execute_result"
    }
   ],
   "source": [
    "Other3 = pd.crosstab(stroke['work_type'], stroke['stroke'])\n",
    "stats.chi2_contingency(Other3)"
   ]
  },
  {
   "cell_type": "code",
   "execution_count": 177,
   "metadata": {},
   "outputs": [
    {
     "data": {
      "text/plain": [
       "(1.0749713079092142,\n",
       " 0.29982523877153633,\n",
       " 1,\n",
       " array([[2390.52260716,  122.47739284],\n",
       "        [2469.47739284,  126.52260716]]))"
      ]
     },
     "execution_count": 177,
     "metadata": {},
     "output_type": "execute_result"
    }
   ],
   "source": [
    "Other4 = pd.crosstab(stroke['Residence_type'], stroke['stroke'])\n",
    "stats.chi2_contingency(Other4)"
   ]
  },
  {
   "cell_type": "code",
   "execution_count": 178,
   "metadata": {},
   "outputs": [
    {
     "data": {
      "text/plain": [
       "(29.22572707549827,\n",
       " 2.0077041756108317e-06,\n",
       " 3,\n",
       " array([[1468.749266  ,   75.250734  ],\n",
       "        [ 840.91603053,   43.08396947],\n",
       "        [1799.78860834,   92.21139166],\n",
       "        [ 750.54609513,   38.45390487]]))"
      ]
     },
     "execution_count": 178,
     "metadata": {},
     "output_type": "execute_result"
    }
   ],
   "source": [
    "Other5 = pd.crosstab(stroke['smoking_status'], stroke['stroke'])\n",
    "stats.chi2_contingency(Other5) "
   ]
  },
  {
   "cell_type": "markdown",
   "metadata": {},
   "source": [
    "# <font color='blue'> 4. Building a Logistic Regression Model </font>"
   ]
  },
  {
   "cell_type": "markdown",
   "metadata": {},
   "source": [
    "###  <font color='blue'> 4.1 Sampling </font>\n",
    "<font color='blue'> Repetitive sampling for 'stroke = 1' due to the large difference in the number of 'stroke = 1' and 'stroke = 0' </font>"
   ]
  },
  {
   "cell_type": "code",
   "execution_count": 9,
   "metadata": {},
   "outputs": [],
   "source": [
    "from collections import Counter\n",
    "from sklearn.utils import resample"
   ]
  },
  {
   "cell_type": "code",
   "execution_count": 10,
   "metadata": {},
   "outputs": [
    {
     "name": "stdout",
     "output_type": "stream",
     "text": [
      "(249, 11)\n"
     ]
    }
   ],
   "source": [
    "strokey1 = stroke[stroke['stroke'] == 1]\n",
    "print(strokey1.shape)"
   ]
  },
  {
   "cell_type": "code",
   "execution_count": 11,
   "metadata": {
    "scrolled": true
   },
   "outputs": [
    {
     "name": "stdout",
     "output_type": "stream",
     "text": [
      "(4611, 11)\n"
     ]
    }
   ],
   "source": [
    "strokey1 = resample(strokey1, replace=True, n_samples=4611, random_state=None, stratify=None)   # 4860 - 249 = 4611\n",
    "print(strokey1.shape)"
   ]
  },
  {
   "cell_type": "code",
   "execution_count": 12,
   "metadata": {},
   "outputs": [
    {
     "name": "stdout",
     "output_type": "stream",
     "text": [
      "(9720, 11)\n"
     ]
    }
   ],
   "source": [
    "stroke = pd.concat([stroke, strokey1])\n",
    "print(stroke.shape)"
   ]
  },
  {
   "cell_type": "code",
   "execution_count": 13,
   "metadata": {},
   "outputs": [
    {
     "data": {
      "text/plain": [
       "Counter({1: 4860, 0: 4860})"
      ]
     },
     "execution_count": 13,
     "metadata": {},
     "output_type": "execute_result"
    }
   ],
   "source": [
    "Counter(stroke['stroke'])"
   ]
  },
  {
   "cell_type": "markdown",
   "metadata": {},
   "source": [
    "### <font color='blue'> 4.2 Dummy coding</font>"
   ]
  },
  {
   "cell_type": "code",
   "execution_count": 14,
   "metadata": {},
   "outputs": [],
   "source": [
    "X = stroke.iloc[:, :-1]\n",
    "y = stroke.iloc[:,  -1]"
   ]
  },
  {
   "cell_type": "code",
   "execution_count": 78,
   "metadata": {},
   "outputs": [
    {
     "name": "stderr",
     "output_type": "stream",
     "text": [
      "<ipython-input-78-c5c3037a2061>:1: FutureWarning: In a future version, the Index constructor will not infer numeric dtypes when passed object-dtype sequences (matching Series behavior)\n",
      "  X = pd.get_dummies(X, drop_first=True)\n"
     ]
    }
   ],
   "source": [
    "X = pd.get_dummies(X, drop_first=True)"
   ]
  },
  {
   "cell_type": "code",
   "execution_count": 30,
   "metadata": {
    "scrolled": true
   },
   "outputs": [
    {
     "data": {
      "text/html": [
       "<div>\n",
       "<style scoped>\n",
       "    .dataframe tbody tr th:only-of-type {\n",
       "        vertical-align: middle;\n",
       "    }\n",
       "\n",
       "    .dataframe tbody tr th {\n",
       "        vertical-align: top;\n",
       "    }\n",
       "\n",
       "    .dataframe thead th {\n",
       "        text-align: right;\n",
       "    }\n",
       "</style>\n",
       "<table border=\"1\" class=\"dataframe\">\n",
       "  <thead>\n",
       "    <tr style=\"text-align: right;\">\n",
       "      <th></th>\n",
       "      <th>age</th>\n",
       "      <th>avg_glucose_level</th>\n",
       "      <th>bmi</th>\n",
       "      <th>gender_Male</th>\n",
       "      <th>hypertension_1</th>\n",
       "      <th>heart_disease_1</th>\n",
       "      <th>ever_married_Yes</th>\n",
       "      <th>work_type_Private</th>\n",
       "      <th>work_type_Self-employed</th>\n",
       "      <th>work_type_children</th>\n",
       "      <th>Residence_type_Urban</th>\n",
       "      <th>smoking_status_formerly smoked</th>\n",
       "      <th>smoking_status_never smoked</th>\n",
       "      <th>smoking_status_smokes</th>\n",
       "    </tr>\n",
       "  </thead>\n",
       "  <tbody>\n",
       "    <tr>\n",
       "      <th>0</th>\n",
       "      <td>67.0</td>\n",
       "      <td>228.69</td>\n",
       "      <td>36.6</td>\n",
       "      <td>1</td>\n",
       "      <td>0</td>\n",
       "      <td>1</td>\n",
       "      <td>1</td>\n",
       "      <td>1</td>\n",
       "      <td>0</td>\n",
       "      <td>0</td>\n",
       "      <td>1</td>\n",
       "      <td>1</td>\n",
       "      <td>0</td>\n",
       "      <td>0</td>\n",
       "    </tr>\n",
       "    <tr>\n",
       "      <th>1</th>\n",
       "      <td>61.0</td>\n",
       "      <td>202.21</td>\n",
       "      <td>28.9</td>\n",
       "      <td>0</td>\n",
       "      <td>0</td>\n",
       "      <td>0</td>\n",
       "      <td>1</td>\n",
       "      <td>0</td>\n",
       "      <td>1</td>\n",
       "      <td>0</td>\n",
       "      <td>0</td>\n",
       "      <td>0</td>\n",
       "      <td>1</td>\n",
       "      <td>0</td>\n",
       "    </tr>\n",
       "    <tr>\n",
       "      <th>2</th>\n",
       "      <td>80.0</td>\n",
       "      <td>105.92</td>\n",
       "      <td>32.5</td>\n",
       "      <td>1</td>\n",
       "      <td>0</td>\n",
       "      <td>1</td>\n",
       "      <td>1</td>\n",
       "      <td>1</td>\n",
       "      <td>0</td>\n",
       "      <td>0</td>\n",
       "      <td>0</td>\n",
       "      <td>0</td>\n",
       "      <td>1</td>\n",
       "      <td>0</td>\n",
       "    </tr>\n",
       "    <tr>\n",
       "      <th>3</th>\n",
       "      <td>49.0</td>\n",
       "      <td>171.23</td>\n",
       "      <td>34.4</td>\n",
       "      <td>0</td>\n",
       "      <td>0</td>\n",
       "      <td>0</td>\n",
       "      <td>1</td>\n",
       "      <td>1</td>\n",
       "      <td>0</td>\n",
       "      <td>0</td>\n",
       "      <td>1</td>\n",
       "      <td>0</td>\n",
       "      <td>0</td>\n",
       "      <td>1</td>\n",
       "    </tr>\n",
       "    <tr>\n",
       "      <th>4</th>\n",
       "      <td>79.0</td>\n",
       "      <td>174.12</td>\n",
       "      <td>24.0</td>\n",
       "      <td>0</td>\n",
       "      <td>1</td>\n",
       "      <td>0</td>\n",
       "      <td>1</td>\n",
       "      <td>0</td>\n",
       "      <td>1</td>\n",
       "      <td>0</td>\n",
       "      <td>0</td>\n",
       "      <td>0</td>\n",
       "      <td>1</td>\n",
       "      <td>0</td>\n",
       "    </tr>\n",
       "  </tbody>\n",
       "</table>\n",
       "</div>"
      ],
      "text/plain": [
       "    age  avg_glucose_level   bmi  gender_Male  hypertension_1  \\\n",
       "0  67.0             228.69  36.6            1               0   \n",
       "1  61.0             202.21  28.9            0               0   \n",
       "2  80.0             105.92  32.5            1               0   \n",
       "3  49.0             171.23  34.4            0               0   \n",
       "4  79.0             174.12  24.0            0               1   \n",
       "\n",
       "   heart_disease_1  ever_married_Yes  work_type_Private  \\\n",
       "0                1                 1                  1   \n",
       "1                0                 1                  0   \n",
       "2                1                 1                  1   \n",
       "3                0                 1                  1   \n",
       "4                0                 1                  0   \n",
       "\n",
       "   work_type_Self-employed  work_type_children  Residence_type_Urban  \\\n",
       "0                        0                   0                     1   \n",
       "1                        1                   0                     0   \n",
       "2                        0                   0                     0   \n",
       "3                        0                   0                     1   \n",
       "4                        1                   0                     0   \n",
       "\n",
       "   smoking_status_formerly smoked  smoking_status_never smoked  \\\n",
       "0                               1                            0   \n",
       "1                               0                            1   \n",
       "2                               0                            1   \n",
       "3                               0                            0   \n",
       "4                               0                            1   \n",
       "\n",
       "   smoking_status_smokes  \n",
       "0                      0  \n",
       "1                      0  \n",
       "2                      0  \n",
       "3                      1  \n",
       "4                      0  "
      ]
     },
     "execution_count": 30,
     "metadata": {},
     "output_type": "execute_result"
    }
   ],
   "source": [
    "X.head()"
   ]
  },
  {
   "cell_type": "markdown",
   "metadata": {},
   "source": [
    "###  <font color='blue'> 4.3 Building a Logis Regression Model from a Statistical Perspective - with statsmodels </font>"
   ]
  },
  {
   "cell_type": "markdown",
   "metadata": {},
   "source": [
    "#### <font color='blue'> 4.3.1 Build full model </font>"
   ]
  },
  {
   "cell_type": "code",
   "execution_count": 80,
   "metadata": {},
   "outputs": [],
   "source": [
    "from sklearn.model_selection import train_test_split"
   ]
  },
  {
   "cell_type": "code",
   "execution_count": 148,
   "metadata": {},
   "outputs": [],
   "source": [
    "X_train, X_test, y_train, y_test = train_test_split(X, y, \n",
    "                                                    test_size=0.2,\n",
    "                                                    stratify=y,\n",
    "                                                    random_state=None)"
   ]
  },
  {
   "cell_type": "code",
   "execution_count": 149,
   "metadata": {
    "scrolled": true
   },
   "outputs": [
    {
     "data": {
      "text/plain": [
       "Counter({0: 3888, 1: 3888})"
      ]
     },
     "execution_count": 149,
     "metadata": {},
     "output_type": "execute_result"
    }
   ],
   "source": [
    "Counter(y_train)"
   ]
  },
  {
   "cell_type": "code",
   "execution_count": 150,
   "metadata": {},
   "outputs": [],
   "source": [
    "import statsmodels.api as sm"
   ]
  },
  {
   "cell_type": "code",
   "execution_count": 151,
   "metadata": {},
   "outputs": [
    {
     "name": "stdout",
     "output_type": "stream",
     "text": [
      "Optimization terminated successfully.\n",
      "         Current function value: 0.475517\n",
      "         Iterations 7\n",
      "                                Results: Logit\n",
      "===============================================================================\n",
      "Model:                   Logit                 Pseudo R-squared:      0.314    \n",
      "Dependent Variable:      stroke                AIC:                   7425.2392\n",
      "Date:                    2022-10-15 22:01      BIC:                   7529.6212\n",
      "No. Observations:        7776                  Log-Likelihood:        -3697.6  \n",
      "Df Model:                14                    LL-Null:               -5389.9  \n",
      "Df Residuals:            7761                  LLR p-value:           0.0000   \n",
      "Converged:               1.0000                Scale:                 1.0000   \n",
      "No. Iterations:          7.0000                                                \n",
      "-------------------------------------------------------------------------------\n",
      "                                Coef.  Std.Err.    z     P>|z|   [0.025  0.975]\n",
      "-------------------------------------------------------------------------------\n",
      "const                          -5.6808   0.2323 -24.4585 0.0000 -6.1360 -5.2256\n",
      "age                             0.0812   0.0023  34.9384 0.0000  0.0766  0.0857\n",
      "avg_glucose_level               0.0040   0.0006   7.0242 0.0000  0.0029  0.0051\n",
      "bmi                             0.0110   0.0047   2.3167 0.0205  0.0017  0.0203\n",
      "gender_Male                    -0.0439   0.0598  -0.7338 0.4631 -0.1612  0.0734\n",
      "hypertension_1                  0.4662   0.0781   5.9674 0.0000  0.3131  0.6193\n",
      "heart_disease_1                 0.2752   0.0990   2.7794 0.0054  0.0811  0.4693\n",
      "ever_married_Yes               -0.1024   0.0944  -1.0851 0.2779 -0.2874  0.0826\n",
      "work_type_Private               0.1792   0.0838   2.1376 0.0326  0.0149  0.3436\n",
      "work_type_Self-employed        -0.0878   0.0976  -0.8992 0.3685 -0.2791  0.1035\n",
      "work_type_children              1.5573   0.2421   6.4340 0.0000  1.0829  2.0318\n",
      "Residence_type_Urban            0.1385   0.0580   2.3890 0.0169  0.0249  0.2521\n",
      "smoking_status_formerly smoked  0.1721   0.0886   1.9423 0.0521 -0.0016  0.3457\n",
      "smoking_status_never smoked    -0.1925   0.0826  -2.3291 0.0199 -0.3545 -0.0305\n",
      "smoking_status_smokes           0.2184   0.0969   2.2531 0.0243  0.0284  0.4084\n",
      "===============================================================================\n",
      "\n"
     ]
    }
   ],
   "source": [
    "X_train1 = sm.add_constant(X_train)   # add intercept\n",
    "model_1 = sm.Logit(y_train.astype(float), X_train1.astype(float)).fit()\n",
    "print(model_1.summary2())"
   ]
  },
  {
   "cell_type": "markdown",
   "metadata": {},
   "source": [
    "#### <font color='blue'> 4.3.1 Model selection </font>"
   ]
  },
  {
   "cell_type": "code",
   "execution_count": 152,
   "metadata": {},
   "outputs": [],
   "source": [
    "x_columns = ['const', 'age', 'avg_glucose_level', 'bmi', 'gender_Male', 'hypertension_1',\n",
    "       'heart_disease_1', 'ever_married_Yes', 'work_type_Private',\n",
    "       'work_type_Self-employed', 'work_type_children', 'Residence_type_Urban',\n",
    "       'smoking_status_formerly smoked', 'smoking_status_never smoked',\n",
    "       'smoking_status_smokes']"
   ]
  },
  {
   "cell_type": "code",
   "execution_count": 153,
   "metadata": {},
   "outputs": [
    {
     "name": "stdout",
     "output_type": "stream",
     "text": [
      "Optimization terminated successfully.\n",
      "         Current function value: 0.475517\n",
      "         Iterations 7\n",
      "                                Results: Logit\n",
      "===============================================================================\n",
      "Model:                   Logit                 Pseudo R-squared:      0.314    \n",
      "Dependent Variable:      stroke                AIC:                   7425.2392\n",
      "Date:                    2022-10-15 22:01      BIC:                   7529.6212\n",
      "No. Observations:        7776                  Log-Likelihood:        -3697.6  \n",
      "Df Model:                14                    LL-Null:               -5389.9  \n",
      "Df Residuals:            7761                  LLR p-value:           0.0000   \n",
      "Converged:               1.0000                Scale:                 1.0000   \n",
      "No. Iterations:          7.0000                                                \n",
      "-------------------------------------------------------------------------------\n",
      "                                Coef.  Std.Err.    z     P>|z|   [0.025  0.975]\n",
      "-------------------------------------------------------------------------------\n",
      "const                          -5.6808   0.2323 -24.4585 0.0000 -6.1360 -5.2256\n",
      "age                             0.0812   0.0023  34.9384 0.0000  0.0766  0.0857\n",
      "avg_glucose_level               0.0040   0.0006   7.0242 0.0000  0.0029  0.0051\n",
      "bmi                             0.0110   0.0047   2.3167 0.0205  0.0017  0.0203\n",
      "gender_Male                    -0.0439   0.0598  -0.7338 0.4631 -0.1612  0.0734\n",
      "hypertension_1                  0.4662   0.0781   5.9674 0.0000  0.3131  0.6193\n",
      "heart_disease_1                 0.2752   0.0990   2.7794 0.0054  0.0811  0.4693\n",
      "ever_married_Yes               -0.1024   0.0944  -1.0851 0.2779 -0.2874  0.0826\n",
      "work_type_Private               0.1792   0.0838   2.1376 0.0326  0.0149  0.3436\n",
      "work_type_Self-employed        -0.0878   0.0976  -0.8992 0.3685 -0.2791  0.1035\n",
      "work_type_children              1.5573   0.2421   6.4340 0.0000  1.0829  2.0318\n",
      "Residence_type_Urban            0.1385   0.0580   2.3890 0.0169  0.0249  0.2521\n",
      "smoking_status_formerly smoked  0.1721   0.0886   1.9423 0.0521 -0.0016  0.3457\n",
      "smoking_status_never smoked    -0.1925   0.0826  -2.3291 0.0199 -0.3545 -0.0305\n",
      "smoking_status_smokes           0.2184   0.0969   2.2531 0.0243  0.0284  0.4084\n",
      "===============================================================================\n",
      "\n"
     ]
    }
   ],
   "source": [
    "X_train2 = X_train1\n",
    "\n",
    "def get_stats():\n",
    "    x = X_train2[x_columns]\n",
    "    results = sm.Logit(y_train.astype(float), x).fit()\n",
    "    print(results.summary2())\n",
    "get_stats()"
   ]
  },
  {
   "cell_type": "code",
   "execution_count": 154,
   "metadata": {},
   "outputs": [
    {
     "name": "stdout",
     "output_type": "stream",
     "text": [
      "Optimization terminated successfully.\n",
      "         Current function value: 0.475552\n",
      "         Iterations 7\n",
      "                                Results: Logit\n",
      "===============================================================================\n",
      "Model:                   Logit                 Pseudo R-squared:      0.314    \n",
      "Dependent Variable:      stroke                AIC:                   7423.7779\n",
      "Date:                    2022-10-15 22:01      BIC:                   7521.2011\n",
      "No. Observations:        7776                  Log-Likelihood:        -3697.9  \n",
      "Df Model:                13                    LL-Null:               -5389.9  \n",
      "Df Residuals:            7762                  LLR p-value:           0.0000   \n",
      "Converged:               1.0000                Scale:                 1.0000   \n",
      "No. Iterations:          7.0000                                                \n",
      "-------------------------------------------------------------------------------\n",
      "                                Coef.  Std.Err.    z     P>|z|   [0.025  0.975]\n",
      "-------------------------------------------------------------------------------\n",
      "const                          -5.6915   0.2318 -24.5509 0.0000 -6.1458 -5.2371\n",
      "age                             0.0812   0.0023  34.9403 0.0000  0.0766  0.0857\n",
      "avg_glucose_level               0.0040   0.0006   6.9903 0.0000  0.0028  0.0051\n",
      "bmi                             0.0109   0.0047   2.3109 0.0208  0.0017  0.0202\n",
      "hypertension_1                  0.4664   0.0781   5.9709 0.0000  0.3133  0.6195\n",
      "heart_disease_1                 0.2671   0.0984   2.7153 0.0066  0.0743  0.4599\n",
      "ever_married_Yes               -0.1033   0.0943  -1.0960 0.2731 -0.2881  0.0815\n",
      "work_type_Private               0.1747   0.0836   2.0903 0.0366  0.0109  0.3385\n",
      "work_type_Self-employed        -0.0896   0.0975  -0.9186 0.3583 -0.2808  0.1016\n",
      "work_type_children              1.5492   0.2418   6.4075 0.0000  1.0753  2.0231\n",
      "Residence_type_Urban            0.1388   0.0580   2.3936 0.0167  0.0251  0.2524\n",
      "smoking_status_formerly smoked  0.1701   0.0885   1.9212 0.0547 -0.0034  0.3436\n",
      "smoking_status_never smoked    -0.1870   0.0823  -2.2732 0.0230 -0.3483 -0.0258\n",
      "smoking_status_smokes           0.2181   0.0969   2.2502 0.0244  0.0281  0.4081\n",
      "===============================================================================\n",
      "\n"
     ]
    }
   ],
   "source": [
    "x_columns.remove('gender_Male')\n",
    "get_stats()"
   ]
  },
  {
   "cell_type": "code",
   "execution_count": 155,
   "metadata": {},
   "outputs": [
    {
     "name": "stdout",
     "output_type": "stream",
     "text": [
      "Optimization terminated successfully.\n",
      "         Current function value: 0.475629\n",
      "         Iterations 7\n",
      "                                Results: Logit\n",
      "===============================================================================\n",
      "Model:                   Logit                 Pseudo R-squared:      0.314    \n",
      "Dependent Variable:      stroke                AIC:                   7422.9807\n",
      "Date:                    2022-10-15 22:02      BIC:                   7513.4451\n",
      "No. Observations:        7776                  Log-Likelihood:        -3698.5  \n",
      "Df Model:                12                    LL-Null:               -5389.9  \n",
      "Df Residuals:            7763                  LLR p-value:           0.0000   \n",
      "Converged:               1.0000                Scale:                 1.0000   \n",
      "No. Iterations:          7.0000                                                \n",
      "-------------------------------------------------------------------------------\n",
      "                                Coef.  Std.Err.    z     P>|z|   [0.025  0.975]\n",
      "-------------------------------------------------------------------------------\n",
      "const                          -5.7407   0.2283 -25.1495 0.0000 -6.1881 -5.2933\n",
      "age                             0.0807   0.0023  35.2761 0.0000  0.0762  0.0852\n",
      "avg_glucose_level               0.0039   0.0006   6.9158 0.0000  0.0028  0.0050\n",
      "bmi                             0.0108   0.0047   2.2706 0.0232  0.0015  0.0200\n",
      "hypertension_1                  0.4710   0.0779   6.0456 0.0000  0.3183  0.6236\n",
      "heart_disease_1                 0.2755   0.0980   2.8113 0.0049  0.0834  0.4676\n",
      "work_type_Private               0.1724   0.0835   2.0651 0.0389  0.0088  0.3361\n",
      "work_type_Self-employed        -0.0918   0.0975  -0.9420 0.3462 -0.2828  0.0992\n",
      "work_type_children              1.6107   0.2357   6.8326 0.0000  1.1487  2.0727\n",
      "Residence_type_Urban            0.1428   0.0579   2.4686 0.0136  0.0294  0.2562\n",
      "smoking_status_formerly smoked  0.1625   0.0883   1.8407 0.0657 -0.0105  0.3355\n",
      "smoking_status_never smoked    -0.1860   0.0823  -2.2618 0.0237 -0.3473 -0.0248\n",
      "smoking_status_smokes           0.2106   0.0967   2.1772 0.0295  0.0210  0.4001\n",
      "===============================================================================\n",
      "\n"
     ]
    }
   ],
   "source": [
    "x_columns.remove('ever_married_Yes')\n",
    "get_stats()     # Here is my final model"
   ]
  },
  {
   "cell_type": "code",
   "execution_count": 157,
   "metadata": {},
   "outputs": [
    {
     "name": "stdout",
     "output_type": "stream",
     "text": [
      "Optimization terminated successfully.\n",
      "         Current function value: 0.475629\n",
      "         Iterations 7\n",
      "                           Logit Regression Results                           \n",
      "==============================================================================\n",
      "Dep. Variable:                 stroke   No. Observations:                 7776\n",
      "Model:                          Logit   Df Residuals:                     7763\n",
      "Method:                           MLE   Df Model:                           12\n",
      "Date:                Sat, 15 Oct 2022   Pseudo R-squ.:                  0.3138\n",
      "Time:                        22:05:13   Log-Likelihood:                -3698.5\n",
      "converged:                       True   LL-Null:                       -5389.9\n",
      "Covariance Type:            nonrobust   LLR p-value:                     0.000\n",
      "==================================================================================================\n",
      "                                     coef    std err          z      P>|z|      [0.025      0.975]\n",
      "--------------------------------------------------------------------------------------------------\n",
      "const                             -5.7407      0.228    -25.149      0.000      -6.188      -5.293\n",
      "age                                0.0807      0.002     35.276      0.000       0.076       0.085\n",
      "avg_glucose_level                  0.0039      0.001      6.916      0.000       0.003       0.005\n",
      "bmi                                0.0108      0.005      2.271      0.023       0.001       0.020\n",
      "hypertension_1                     0.4710      0.078      6.046      0.000       0.318       0.624\n",
      "heart_disease_1                    0.2755      0.098      2.811      0.005       0.083       0.468\n",
      "work_type_Private                  0.1724      0.083      2.065      0.039       0.009       0.336\n",
      "work_type_Self-employed           -0.0918      0.097     -0.942      0.346      -0.283       0.099\n",
      "work_type_children                 1.6107      0.236      6.833      0.000       1.149       2.073\n",
      "Residence_type_Urban               0.1428      0.058      2.469      0.014       0.029       0.256\n",
      "smoking_status_formerly smoked     0.1625      0.088      1.841      0.066      -0.011       0.335\n",
      "smoking_status_never smoked       -0.1860      0.082     -2.262      0.024      -0.347      -0.025\n",
      "smoking_status_smokes              0.2106      0.097      2.177      0.029       0.021       0.400\n",
      "==================================================================================================\n"
     ]
    }
   ],
   "source": [
    "X_train2 = X_train1[x_columns]\n",
    "model_1_2 = sm.Logit(y_train.astype(float), X_train2).fit()\n",
    "print(model_1_2.summary())"
   ]
  },
  {
   "cell_type": "code",
   "execution_count": 161,
   "metadata": {},
   "outputs": [],
   "source": [
    "from sklearn.metrics import confusion_matrix"
   ]
  },
  {
   "cell_type": "code",
   "execution_count": 163,
   "metadata": {},
   "outputs": [
    {
     "data": {
      "text/plain": [
       "array([[3167, 1160],\n",
       "       [ 721, 2728]], dtype=int64)"
      ]
     },
     "execution_count": 163,
     "metadata": {},
     "output_type": "execute_result"
    }
   ],
   "source": [
    "cm = confusion_matrix(d, y_train)\n",
    "cm"
   ]
  },
  {
   "cell_type": "code",
   "execution_count": 164,
   "metadata": {},
   "outputs": [
    {
     "name": "stdout",
     "output_type": "stream",
     "text": [
      "Train accuracy rate : 75.81%\n",
      "Train Precision : 70.16%\n",
      "Train Sensitivity : 79.10%\n",
      "Train Specificity : 73.19%\n"
     ]
    }
   ],
   "source": [
    "print(f'Train accuracy rate : {(3167+2728)/7776:.2%}')\n",
    "print(f'Train Precision : {2728/(2728+1160):.2%}')\n",
    "print(f'Train Sensitivity : {2728/(2728+721):.2%}')\n",
    "print(f'Train Specificity : {3167/(3167+1160):.2%}')"
   ]
  },
  {
   "cell_type": "code",
   "execution_count": 165,
   "metadata": {},
   "outputs": [],
   "source": [
    "x_columns.remove('const')\n",
    "X_test1 = sm.add_constant(X_test[x_columns])\n",
    "y_pred_1 = model_1_2.predict(X_test1)"
   ]
  },
  {
   "cell_type": "code",
   "execution_count": 171,
   "metadata": {},
   "outputs": [
    {
     "data": {
      "text/plain": [
       "array([[731, 179],\n",
       "       [241, 793]], dtype=int64)"
      ]
     },
     "execution_count": 171,
     "metadata": {},
     "output_type": "execute_result"
    }
   ],
   "source": [
    "cm2 = confusion_matrix(round(y_pred_1), y_test)\n",
    "cm2"
   ]
  },
  {
   "cell_type": "code",
   "execution_count": 172,
   "metadata": {},
   "outputs": [
    {
     "name": "stdout",
     "output_type": "stream",
     "text": [
      "Test accuracy rate : 78.40%\n",
      "Test Precision : 81.58%\n",
      "Test Sensitivity : 76.69%\n",
      "Test Specificity : 57.38%\n"
     ]
    }
   ],
   "source": [
    "print(f'Test accuracy rate : {(731+793)/1944:.2%}')\n",
    "print(f'Test Precision : {793/(793+179):.2%}')\n",
    "print(f'Test Sensitivity : {793/(793+241):.2%}')\n",
    "print(f'Test Specificity : {241/(241+179):.2%}')"
   ]
  },
  {
   "cell_type": "markdown",
   "metadata": {},
   "source": [
    "###  <font color='blue'> 4.4 Building a Logis Regression Model from a Machine Learning Perspective - with sklearn </font>\n",
    "<font color='blue'> Model a hundred times and find the best </font>"
   ]
  },
  {
   "cell_type": "code",
   "execution_count": 64,
   "metadata": {},
   "outputs": [],
   "source": [
    "from sklearn.linear_model import LogisticRegression\n",
    "from sklearn.metrics import confusion_matrix, accuracy_score"
   ]
  },
  {
   "cell_type": "code",
   "execution_count": 72,
   "metadata": {},
   "outputs": [],
   "source": [
    "y = y.astype('int')  # y is of type object\n",
    "\n",
    "acc_train = []\n",
    "acc_test = []\n",
    "SEED = []\n",
    "n_iter = 100\n",
    "model = LogisticRegression(max_iter=1000, n_jobs=-1)\n",
    "\n",
    "for idx in range(1, n_iter+1) :\n",
    "    seed = np.random.randint(0, 60001)\n",
    "    SEED.append(f'{seed:,}')\n",
    "    X_train, X_test, y_train, y_test = train_test_split(X, y, \n",
    "                                                    test_size=0.2, \n",
    "                                                    stratify=y,\n",
    "                                                    random_state=seed)\n",
    "    \n",
    "    model.fit(X_train, y_train)\n",
    "    acc_train.append(model.score(X_train, y_train))\n",
    "    acc_test.append(model.score(X_test, y_test))"
   ]
  },
  {
   "cell_type": "code",
   "execution_count": 87,
   "metadata": {},
   "outputs": [
    {
     "data": {
      "image/png": "[encoded data removed]",
      "text/plain": [
       "<Figure size 1440x216 with 1 Axes>"
      ]
     },
     "metadata": {
      "needs_background": "light"
     },
     "output_type": "display_data"
    }
   ],
   "source": [
    "plt.figure(figsize=[20, 3])\n",
    "\n",
    "plt.plot(acc_train, color='blue', linestyle='-', alpha=0.6)\n",
    "plt.plot(acc_test, color='red', linestyle='--', alpha=0.6)\n",
    "\n",
    "plt.xticks(range(100), SEED, rotation='vertical')\n",
    "plt.grid(True)\n",
    "plt.legend(['acc_train', 'acc_test'], loc='upper right')\n",
    "\n",
    "plt.show()"
   ]
  },
  {
   "cell_type": "code",
   "execution_count": 91,
   "metadata": {},
   "outputs": [],
   "source": [
    "# It looks like acc_train & acc_test have the highest average on the 41st model, which is seed = 22,574\n",
    "\n",
    "X_train, X_test, y_train, y_test = train_test_split(X, y, \n",
    "                                                    test_size=0.2,\n",
    "                                                    stratify=y,\n",
    "                                                    random_state=22574)\n",
    "\n",
    "model_2 = LogisticRegression(random_state=None, max_iter=1000, n_jobs=-1)\n",
    "model_2.fit(X_train, y_train)\n",
    "y_pred_2 = model_2.predict(X_test)"
   ]
  },
  {
   "cell_type": "code",
   "execution_count": 92,
   "metadata": {},
   "outputs": [
    {
     "data": {
      "text/plain": [
       "array([[ 0.07971157,  0.0041728 ,  0.00916097, -0.10026773,  0.53402694,\n",
       "         0.21590488, -0.08610275,  0.17055847, -0.08186126,  1.25006967,\n",
       "         0.12722182,  0.19794545, -0.16645212,  0.2942366 ]])"
      ]
     },
     "execution_count": 92,
     "metadata": {},
     "output_type": "execute_result"
    }
   ],
   "source": [
    "model_2.coef_"
   ]
  },
  {
   "cell_type": "code",
   "execution_count": 94,
   "metadata": {},
   "outputs": [
    {
     "data": {
      "text/html": [
       "<div>\n",
       "<style scoped>\n",
       "    .dataframe tbody tr th:only-of-type {\n",
       "        vertical-align: middle;\n",
       "    }\n",
       "\n",
       "    .dataframe tbody tr th {\n",
       "        vertical-align: top;\n",
       "    }\n",
       "\n",
       "    .dataframe thead th {\n",
       "        text-align: right;\n",
       "    }\n",
       "</style>\n",
       "<table border=\"1\" class=\"dataframe\">\n",
       "  <thead>\n",
       "    <tr style=\"text-align: right;\">\n",
       "      <th>Predict</th>\n",
       "      <th>0</th>\n",
       "      <th>1</th>\n",
       "    </tr>\n",
       "    <tr>\n",
       "      <th>Actual</th>\n",
       "      <th></th>\n",
       "      <th></th>\n",
       "    </tr>\n",
       "  </thead>\n",
       "  <tbody>\n",
       "    <tr>\n",
       "      <th>0</th>\n",
       "      <td>721</td>\n",
       "      <td>251</td>\n",
       "    </tr>\n",
       "    <tr>\n",
       "      <th>1</th>\n",
       "      <td>149</td>\n",
       "      <td>823</td>\n",
       "    </tr>\n",
       "  </tbody>\n",
       "</table>\n",
       "</div>"
      ],
      "text/plain": [
       "Predict    0    1\n",
       "Actual           \n",
       "0        721  251\n",
       "1        149  823"
      ]
     },
     "execution_count": 94,
     "metadata": {},
     "output_type": "execute_result"
    }
   ],
   "source": [
    "pd.crosstab(index=y_test, columns=y_pred_2, rownames=['Actual'], colnames=['Predict'])"
   ]
  },
  {
   "cell_type": "code",
   "execution_count": 96,
   "metadata": {},
   "outputs": [
    {
     "name": "stdout",
     "output_type": "stream",
     "text": [
      "Test accuracy rate : 79.42%\n",
      "Train Precision : 76.63%\n",
      "Train Sensitivity : 84.67%\n",
      "Train Specificity : 74.18%\n"
     ]
    }
   ],
   "source": [
    "print(f'Test accuracy rate : {(721+823)/1944:.2%}')\n",
    "print(f'Train Precision : {823/(823+251):.2%}')\n",
    "print(f'Train Sensitivity : {823/(823+149):.2%}')\n",
    "print(f'Train Specificity : {721/(721+251):.2%}')"
   ]
  },
  {
   "cell_type": "code",
   "execution_count": 97,
   "metadata": {
    "scrolled": true
   },
   "outputs": [
    {
     "data": {
      "image/png": "[encoded data removed]",
      "text/plain": [
       "<Figure size 432x288 with 1 Axes>"
      ]
     },
     "metadata": {
      "needs_background": "light"
     },
     "output_type": "display_data"
    }
   ],
   "source": [
    "from sklearn.metrics import roc_auc_score\n",
    "from sklearn.metrics import roc_curve\n",
    "\n",
    "logit_roc_auc = roc_auc_score(y_test, model_2.predict(X_test))\n",
    "fpr, tpr, thresholds = roc_curve(y_test, model_2.predict_proba(X_test)[:,1])\n",
    "plt.figure()\n",
    "plt.plot(fpr, tpr, color='red', linewidth=1, label='Logistic Regression (area = %0.2f)' % logit_roc_auc)\n",
    "plt.plot([0, 1], [0, 1], color='blue', linewidth=1)\n",
    "plt.xlim([0.0, 1.0])\n",
    "plt.ylim([0.0, 1.05])\n",
    "plt.xlabel('False Positive Rate')\n",
    "plt.ylabel('True Positive Rate')\n",
    "plt.title('ROC Curve')\n",
    "plt.legend(loc=\"lower right\")\n",
    "plt.show()"
   ]
  },
  {
   "cell_type": "markdown",
   "metadata": {},
   "source": [
    "####  <font color='blue'> Validate model performance with Cross Validation </font>"
   ]
  },
  {
   "cell_type": "code",
   "execution_count": 98,
   "metadata": {
    "scrolled": true
   },
   "outputs": [
    {
     "name": "stdout",
     "output_type": "stream",
     "text": [
      "Accuracy Rate : 77.60%, (CI : 2.74%)\n"
     ]
    }
   ],
   "source": [
    "from sklearn.model_selection import RepeatedStratifiedKFold\n",
    "from sklearn.model_selection import cross_val_score\n",
    "\n",
    "cv = RepeatedStratifiedKFold(n_splits=10, n_repeats=100, random_state=None)\n",
    "scores = cross_val_score(model_2, X_train, y_train, cv=cv, n_jobs=-1)\n",
    "print(f'Accuracy Rate : {np.mean(scores):.2%}, (CI : {np.std(scores)*2:.2%})')"
   ]
  }
 ],
 "metadata": {
  "kernelspec": {
   "display_name": "Python 3",
   "language": "python",
   "name": "python3"
  },
  "language_info": {
   "codemirror_mode": {
    "name": "ipython",
    "version": 3
   },
   "file_extension": ".py",
   "mimetype": "text/x-python",
   "name": "python",
   "nbconvert_exporter": "python",
   "pygments_lexer": "ipython3",
   "version": "3.8.5"
  }
 },
 "nbformat": 4,
 "nbformat_minor": 4
}
