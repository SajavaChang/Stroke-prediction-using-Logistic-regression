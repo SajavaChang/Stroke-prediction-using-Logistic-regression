{
 "cells": [
  {
   "cell_type": "code",
   "execution_count": 1,
   "metadata": {},
   "outputs": [
    {
     "data": {
      "application/javascript": [
       "IPython.notebook.set_autosave_interval(120000)"
      ]
     },
     "metadata": {},
     "output_type": "display_data"
    },
    {
     "name": "stdout",
     "output_type": "stream",
     "text": [
      "Autosaving every 120 seconds\n"
     ]
    }
   ],
   "source": [
    "# -*- coding: utf-8 -*-\n",
    "from platform import python_version\n",
    "import os, time, glob, socket, pickle, joblib\n",
    "import numpy as np\n",
    "import pandas as pd\n",
    "%autosave 120"
   ]
  },
  {
   "cell_type": "markdown",
   "metadata": {},
   "source": [
    "# <font color='blue'> 1. Import Data </font>"
   ]
  },
  {
   "cell_type": "code",
   "execution_count": 3,
   "metadata": {},
   "outputs": [
    {
     "data": {
      "text/html": [
       "<div>\n",
       "<style scoped>\n",
       "    .dataframe tbody tr th:only-of-type {\n",
       "        vertical-align: middle;\n",
       "    }\n",
       "\n",
       "    .dataframe tbody tr th {\n",
       "        vertical-align: top;\n",
       "    }\n",
       "\n",
       "    .dataframe thead th {\n",
       "        text-align: right;\n",
       "    }\n",
       "</style>\n",
       "<table border=\"1\" class=\"dataframe\">\n",
       "  <thead>\n",
       "    <tr style=\"text-align: right;\">\n",
       "      <th></th>\n",
       "      <th>id</th>\n",
       "      <th>gender</th>\n",
       "      <th>age</th>\n",
       "      <th>hypertension</th>\n",
       "      <th>heart_disease</th>\n",
       "      <th>ever_married</th>\n",
       "      <th>work_type</th>\n",
       "      <th>Residence_type</th>\n",
       "      <th>avg_glucose_level</th>\n",
       "      <th>bmi</th>\n",
       "      <th>smoking_status</th>\n",
       "      <th>stroke</th>\n",
       "    </tr>\n",
       "  </thead>\n",
       "  <tbody>\n",
       "    <tr>\n",
       "      <th>0</th>\n",
       "      <td>9046</td>\n",
       "      <td>Male</td>\n",
       "      <td>67.0</td>\n",
       "      <td>0</td>\n",
       "      <td>1</td>\n",
       "      <td>Yes</td>\n",
       "      <td>Private</td>\n",
       "      <td>Urban</td>\n",
       "      <td>228.69</td>\n",
       "      <td>36.6</td>\n",
       "      <td>formerly smoked</td>\n",
       "      <td>1</td>\n",
       "    </tr>\n",
       "    <tr>\n",
       "      <th>1</th>\n",
       "      <td>51676</td>\n",
       "      <td>Female</td>\n",
       "      <td>61.0</td>\n",
       "      <td>0</td>\n",
       "      <td>0</td>\n",
       "      <td>Yes</td>\n",
       "      <td>Self-employed</td>\n",
       "      <td>Rural</td>\n",
       "      <td>202.21</td>\n",
       "      <td>NaN</td>\n",
       "      <td>never smoked</td>\n",
       "      <td>1</td>\n",
       "    </tr>\n",
       "    <tr>\n",
       "      <th>2</th>\n",
       "      <td>31112</td>\n",
       "      <td>Male</td>\n",
       "      <td>80.0</td>\n",
       "      <td>0</td>\n",
       "      <td>1</td>\n",
       "      <td>Yes</td>\n",
       "      <td>Private</td>\n",
       "      <td>Rural</td>\n",
       "      <td>105.92</td>\n",
       "      <td>32.5</td>\n",
       "      <td>never smoked</td>\n",
       "      <td>1</td>\n",
       "    </tr>\n",
       "    <tr>\n",
       "      <th>3</th>\n",
       "      <td>60182</td>\n",
       "      <td>Female</td>\n",
       "      <td>49.0</td>\n",
       "      <td>0</td>\n",
       "      <td>0</td>\n",
       "      <td>Yes</td>\n",
       "      <td>Private</td>\n",
       "      <td>Urban</td>\n",
       "      <td>171.23</td>\n",
       "      <td>34.4</td>\n",
       "      <td>smokes</td>\n",
       "      <td>1</td>\n",
       "    </tr>\n",
       "    <tr>\n",
       "      <th>4</th>\n",
       "      <td>1665</td>\n",
       "      <td>Female</td>\n",
       "      <td>79.0</td>\n",
       "      <td>1</td>\n",
       "      <td>0</td>\n",
       "      <td>Yes</td>\n",
       "      <td>Self-employed</td>\n",
       "      <td>Rural</td>\n",
       "      <td>174.12</td>\n",
       "      <td>24.0</td>\n",
       "      <td>never smoked</td>\n",
       "      <td>1</td>\n",
       "    </tr>\n",
       "  </tbody>\n",
       "</table>\n",
       "</div>"
      ],
      "text/plain": [
       "      id  gender   age  hypertension  heart_disease ever_married  \\\n",
       "0   9046    Male  67.0             0              1          Yes   \n",
       "1  51676  Female  61.0             0              0          Yes   \n",
       "2  31112    Male  80.0             0              1          Yes   \n",
       "3  60182  Female  49.0             0              0          Yes   \n",
       "4   1665  Female  79.0             1              0          Yes   \n",
       "\n",
       "       work_type Residence_type  avg_glucose_level   bmi   smoking_status  \\\n",
       "0        Private          Urban             228.69  36.6  formerly smoked   \n",
       "1  Self-employed          Rural             202.21   NaN     never smoked   \n",
       "2        Private          Rural             105.92  32.5     never smoked   \n",
       "3        Private          Urban             171.23  34.4           smokes   \n",
       "4  Self-employed          Rural             174.12  24.0     never smoked   \n",
       "\n",
       "   stroke  \n",
       "0       1  \n",
       "1       1  \n",
       "2       1  \n",
       "3       1  \n",
       "4       1  "
      ]
     },
     "execution_count": 3,
     "metadata": {},
     "output_type": "execute_result"
    }
   ],
   "source": [
    "stroke = pd.read_excel(r\"C:\\Users\\USER\\Desktop\\Data.xlsx\")\n",
    "stroke.head()"
   ]
  },
  {
   "cell_type": "code",
   "execution_count": 4,
   "metadata": {
    "scrolled": false
   },
   "outputs": [
    {
     "name": "stdout",
     "output_type": "stream",
     "text": [
      "(5110, 12)\n"
     ]
    }
   ],
   "source": [
    "print(stroke.shape)"
   ]
  },
  {
   "cell_type": "markdown",
   "metadata": {},
   "source": [
    "# <font color='blue'> 2. Data Cleaning </font>"
   ]
  },
  {
   "cell_type": "markdown",
   "metadata": {},
   "source": [
    "###  <font color='blue'> 2.1 Remove column 'ID' </font>"
   ]
  },
  {
   "cell_type": "code",
   "execution_count": 5,
   "metadata": {
    "scrolled": true
   },
   "outputs": [
    {
     "data": {
      "text/html": [
       "<div>\n",
       "<style scoped>\n",
       "    .dataframe tbody tr th:only-of-type {\n",
       "        vertical-align: middle;\n",
       "    }\n",
       "\n",
       "    .dataframe tbody tr th {\n",
       "        vertical-align: top;\n",
       "    }\n",
       "\n",
       "    .dataframe thead th {\n",
       "        text-align: right;\n",
       "    }\n",
       "</style>\n",
       "<table border=\"1\" class=\"dataframe\">\n",
       "  <thead>\n",
       "    <tr style=\"text-align: right;\">\n",
       "      <th></th>\n",
       "      <th>gender</th>\n",
       "      <th>age</th>\n",
       "      <th>hypertension</th>\n",
       "      <th>heart_disease</th>\n",
       "      <th>ever_married</th>\n",
       "      <th>work_type</th>\n",
       "      <th>Residence_type</th>\n",
       "      <th>avg_glucose_level</th>\n",
       "      <th>bmi</th>\n",
       "      <th>smoking_status</th>\n",
       "      <th>stroke</th>\n",
       "    </tr>\n",
       "  </thead>\n",
       "  <tbody>\n",
       "    <tr>\n",
       "      <th>0</th>\n",
       "      <td>Male</td>\n",
       "      <td>67.0</td>\n",
       "      <td>0</td>\n",
       "      <td>1</td>\n",
       "      <td>Yes</td>\n",
       "      <td>Private</td>\n",
       "      <td>Urban</td>\n",
       "      <td>228.69</td>\n",
       "      <td>36.6</td>\n",
       "      <td>formerly smoked</td>\n",
       "      <td>1</td>\n",
       "    </tr>\n",
       "    <tr>\n",
       "      <th>1</th>\n",
       "      <td>Female</td>\n",
       "      <td>61.0</td>\n",
       "      <td>0</td>\n",
       "      <td>0</td>\n",
       "      <td>Yes</td>\n",
       "      <td>Self-employed</td>\n",
       "      <td>Rural</td>\n",
       "      <td>202.21</td>\n",
       "      <td>NaN</td>\n",
       "      <td>never smoked</td>\n",
       "      <td>1</td>\n",
       "    </tr>\n",
       "    <tr>\n",
       "      <th>2</th>\n",
       "      <td>Male</td>\n",
       "      <td>80.0</td>\n",
       "      <td>0</td>\n",
       "      <td>1</td>\n",
       "      <td>Yes</td>\n",
       "      <td>Private</td>\n",
       "      <td>Rural</td>\n",
       "      <td>105.92</td>\n",
       "      <td>32.5</td>\n",
       "      <td>never smoked</td>\n",
       "      <td>1</td>\n",
       "    </tr>\n",
       "    <tr>\n",
       "      <th>3</th>\n",
       "      <td>Female</td>\n",
       "      <td>49.0</td>\n",
       "      <td>0</td>\n",
       "      <td>0</td>\n",
       "      <td>Yes</td>\n",
       "      <td>Private</td>\n",
       "      <td>Urban</td>\n",
       "      <td>171.23</td>\n",
       "      <td>34.4</td>\n",
       "      <td>smokes</td>\n",
       "      <td>1</td>\n",
       "    </tr>\n",
       "    <tr>\n",
       "      <th>4</th>\n",
       "      <td>Female</td>\n",
       "      <td>79.0</td>\n",
       "      <td>1</td>\n",
       "      <td>0</td>\n",
       "      <td>Yes</td>\n",
       "      <td>Self-employed</td>\n",
       "      <td>Rural</td>\n",
       "      <td>174.12</td>\n",
       "      <td>24.0</td>\n",
       "      <td>never smoked</td>\n",
       "      <td>1</td>\n",
       "    </tr>\n",
       "  </tbody>\n",
       "</table>\n",
       "</div>"
      ],
      "text/plain": [
       "   gender   age  hypertension  heart_disease ever_married      work_type  \\\n",
       "0    Male  67.0             0              1          Yes        Private   \n",
       "1  Female  61.0             0              0          Yes  Self-employed   \n",
       "2    Male  80.0             0              1          Yes        Private   \n",
       "3  Female  49.0             0              0          Yes        Private   \n",
       "4  Female  79.0             1              0          Yes  Self-employed   \n",
       "\n",
       "  Residence_type  avg_glucose_level   bmi   smoking_status  stroke  \n",
       "0          Urban             228.69  36.6  formerly smoked       1  \n",
       "1          Rural             202.21   NaN     never smoked       1  \n",
       "2          Rural             105.92  32.5     never smoked       1  \n",
       "3          Urban             171.23  34.4           smokes       1  \n",
       "4          Rural             174.12  24.0     never smoked       1  "
      ]
     },
     "execution_count": 5,
     "metadata": {},
     "output_type": "execute_result"
    }
   ],
   "source": [
    "stroke.drop(['id'], axis=1, inplace=True)\n",
    "stroke.head()"
   ]
  },
  {
   "cell_type": "markdown",
   "metadata": {},
   "source": [
    "###  <font color='blue'> 2.2 Change data types <pfont>"
   ]
  },
  {
   "cell_type": "code",
   "execution_count": 6,
   "metadata": {},
   "outputs": [
    {
     "data": {
      "text/plain": [
       "gender                object\n",
       "age                  float64\n",
       "hypertension           int64\n",
       "heart_disease          int64\n",
       "ever_married          object\n",
       "work_type             object\n",
       "Residence_type        object\n",
       "avg_glucose_level    float64\n",
       "bmi                  float64\n",
       "smoking_status        object\n",
       "stroke                 int64\n",
       "dtype: object"
      ]
     },
     "execution_count": 6,
     "metadata": {},
     "output_type": "execute_result"
    }
   ],
   "source": [
    "stroke.dtypes"
   ]
  },
  {
   "cell_type": "code",
   "execution_count": 17,
   "metadata": {},
   "outputs": [
    {
     "name": "stdout",
     "output_type": "stream",
     "text": [
      "gender                object\n",
      "age                  float64\n",
      "hypertension          object\n",
      "heart_disease         object\n",
      "ever_married          object\n",
      "work_type             object\n",
      "Residence_type        object\n",
      "avg_glucose_level    float64\n",
      "bmi                  float64\n",
      "smoking_status        object\n",
      "stroke                object\n",
      "dtype: object\n"
     ]
    }
   ],
   "source": [
    "convert_dict = {'hypertension': object, 'heart_disease': object, 'stroke': object}\n",
    "stroke = stroke.astype(convert_dict)\n",
    "print(stroke.dtypes)"
   ]
  },
  {
   "cell_type": "markdown",
   "metadata": {},
   "source": [
    "###  <font color='blue'> 2.3 Missing values imputation <pfont>"
   ]
  },
  {
   "cell_type": "code",
   "execution_count": 8,
   "metadata": {},
   "outputs": [
    {
     "name": "stdout",
     "output_type": "stream",
     "text": [
      "gender                 0\n",
      "age                    0\n",
      "hypertension           0\n",
      "heart_disease          0\n",
      "ever_married           0\n",
      "work_type              0\n",
      "Residence_type         0\n",
      "avg_glucose_level      0\n",
      "bmi                  201\n",
      "smoking_status         0\n",
      "stroke                 0\n",
      "dtype: int64\n"
     ]
    }
   ],
   "source": [
    "print(stroke.isna().sum())"
   ]
  },
  {
   "cell_type": "markdown",
   "metadata": {},
   "source": [
    "####  <font color='blue'> 2.3.1 Impute fields with bmi as NA by means </font>"
   ]
  },
  {
   "cell_type": "code",
   "execution_count": 9,
   "metadata": {},
   "outputs": [
    {
     "data": {
      "text/html": [
       "<div>\n",
       "<style scoped>\n",
       "    .dataframe tbody tr th:only-of-type {\n",
       "        vertical-align: middle;\n",
       "    }\n",
       "\n",
       "    .dataframe tbody tr th {\n",
       "        vertical-align: top;\n",
       "    }\n",
       "\n",
       "    .dataframe thead th {\n",
       "        text-align: right;\n",
       "    }\n",
       "</style>\n",
       "<table border=\"1\" class=\"dataframe\">\n",
       "  <thead>\n",
       "    <tr style=\"text-align: right;\">\n",
       "      <th></th>\n",
       "      <th>gender</th>\n",
       "      <th>age</th>\n",
       "      <th>hypertension</th>\n",
       "      <th>heart_disease</th>\n",
       "      <th>ever_married</th>\n",
       "      <th>work_type</th>\n",
       "      <th>Residence_type</th>\n",
       "      <th>avg_glucose_level</th>\n",
       "      <th>bmi</th>\n",
       "      <th>smoking_status</th>\n",
       "      <th>stroke</th>\n",
       "    </tr>\n",
       "  </thead>\n",
       "  <tbody>\n",
       "    <tr>\n",
       "      <th>0</th>\n",
       "      <td>Male</td>\n",
       "      <td>67.0</td>\n",
       "      <td>0</td>\n",
       "      <td>1</td>\n",
       "      <td>Yes</td>\n",
       "      <td>Private</td>\n",
       "      <td>Urban</td>\n",
       "      <td>228.69</td>\n",
       "      <td>36.6</td>\n",
       "      <td>formerly smoked</td>\n",
       "      <td>1</td>\n",
       "    </tr>\n",
       "    <tr>\n",
       "      <th>1</th>\n",
       "      <td>Female</td>\n",
       "      <td>61.0</td>\n",
       "      <td>0</td>\n",
       "      <td>0</td>\n",
       "      <td>Yes</td>\n",
       "      <td>Self-employed</td>\n",
       "      <td>Rural</td>\n",
       "      <td>202.21</td>\n",
       "      <td>28.9</td>\n",
       "      <td>never smoked</td>\n",
       "      <td>1</td>\n",
       "    </tr>\n",
       "    <tr>\n",
       "      <th>2</th>\n",
       "      <td>Male</td>\n",
       "      <td>80.0</td>\n",
       "      <td>0</td>\n",
       "      <td>1</td>\n",
       "      <td>Yes</td>\n",
       "      <td>Private</td>\n",
       "      <td>Rural</td>\n",
       "      <td>105.92</td>\n",
       "      <td>32.5</td>\n",
       "      <td>never smoked</td>\n",
       "      <td>1</td>\n",
       "    </tr>\n",
       "    <tr>\n",
       "      <th>3</th>\n",
       "      <td>Female</td>\n",
       "      <td>49.0</td>\n",
       "      <td>0</td>\n",
       "      <td>0</td>\n",
       "      <td>Yes</td>\n",
       "      <td>Private</td>\n",
       "      <td>Urban</td>\n",
       "      <td>171.23</td>\n",
       "      <td>34.4</td>\n",
       "      <td>smokes</td>\n",
       "      <td>1</td>\n",
       "    </tr>\n",
       "    <tr>\n",
       "      <th>4</th>\n",
       "      <td>Female</td>\n",
       "      <td>79.0</td>\n",
       "      <td>1</td>\n",
       "      <td>0</td>\n",
       "      <td>Yes</td>\n",
       "      <td>Self-employed</td>\n",
       "      <td>Rural</td>\n",
       "      <td>174.12</td>\n",
       "      <td>24.0</td>\n",
       "      <td>never smoked</td>\n",
       "      <td>1</td>\n",
       "    </tr>\n",
       "  </tbody>\n",
       "</table>\n",
       "</div>"
      ],
      "text/plain": [
       "   gender   age  hypertension  heart_disease ever_married      work_type  \\\n",
       "0    Male  67.0             0              1          Yes        Private   \n",
       "1  Female  61.0             0              0          Yes  Self-employed   \n",
       "2    Male  80.0             0              1          Yes        Private   \n",
       "3  Female  49.0             0              0          Yes        Private   \n",
       "4  Female  79.0             1              0          Yes  Self-employed   \n",
       "\n",
       "  Residence_type  avg_glucose_level   bmi   smoking_status  stroke  \n",
       "0          Urban             228.69  36.6  formerly smoked       1  \n",
       "1          Rural             202.21  28.9     never smoked       1  \n",
       "2          Rural             105.92  32.5     never smoked       1  \n",
       "3          Urban             171.23  34.4           smokes       1  \n",
       "4          Rural             174.12  24.0     never smoked       1  "
      ]
     },
     "execution_count": 9,
     "metadata": {},
     "output_type": "execute_result"
    }
   ],
   "source": [
    "stroke = stroke.fillna(round(stroke['bmi'].mean(), 1))\n",
    "stroke.head()"
   ]
  },
  {
   "cell_type": "code",
   "execution_count": 10,
   "metadata": {},
   "outputs": [
    {
     "name": "stdout",
     "output_type": "stream",
     "text": [
      "gender               0\n",
      "age                  0\n",
      "hypertension         0\n",
      "heart_disease        0\n",
      "ever_married         0\n",
      "work_type            0\n",
      "Residence_type       0\n",
      "avg_glucose_level    0\n",
      "bmi                  0\n",
      "smoking_status       0\n",
      "stroke               0\n",
      "dtype: int64\n"
     ]
    }
   ],
   "source": [
    "print(stroke.isna().sum())"
   ]
  },
  {
   "cell_type": "markdown",
   "metadata": {},
   "source": [
    "###  <font color='blue'> 2.4 Deal with Groups with a particularly small number of categorical variables </font>"
   ]
  },
  {
   "cell_type": "code",
   "execution_count": 11,
   "metadata": {},
   "outputs": [
    {
     "name": "stdout",
     "output_type": "stream",
     "text": [
      "Female    2994\n",
      "Male      2115\n",
      "Other        1\n",
      "Name: gender, dtype: int64\n",
      "0    4612\n",
      "1     498\n",
      "Name: hypertension, dtype: int64\n",
      "0    4834\n",
      "1     276\n",
      "Name: heart_disease, dtype: int64\n",
      "Yes    3353\n",
      "No     1757\n",
      "Name: ever_married, dtype: int64\n",
      "Private          2925\n",
      "Self-employed     819\n",
      "children          687\n",
      "Govt_job          657\n",
      "Never_worked       22\n",
      "Name: work_type, dtype: int64\n",
      "Urban    2596\n",
      "Rural    2514\n",
      "Name: Residence_type, dtype: int64\n",
      "never smoked       1892\n",
      "Unknown            1544\n",
      "formerly smoked     885\n",
      "smokes              789\n",
      "Name: smoking_status, dtype: int64\n",
      "0    4861\n",
      "1     249\n",
      "Name: stroke, dtype: int64\n"
     ]
    }
   ],
   "source": [
    "print(stroke['gender'].value_counts())           # special handling required: Other 1\n",
    "print(stroke['hypertension'].value_counts())\n",
    "print(stroke['heart_disease'].value_counts())\n",
    "print(stroke['ever_married'].value_counts())\n",
    "print(stroke['work_type'].value_counts())        # special handling required: Never_worked 22\n",
    "print(stroke['Residence_type'].value_counts())\n",
    "print(stroke['smoking_status'].value_counts())\n",
    "print(stroke['stroke'].value_counts())"
   ]
  },
  {
   "cell_type": "markdown",
   "metadata": {},
   "source": [
    "####  <font color='blue'> 2.4.1 Delete a data 'gender = Other' </fomt>"
   ]
  },
  {
   "cell_type": "code",
   "execution_count": 12,
   "metadata": {},
   "outputs": [
    {
     "data": {
      "text/html": [
       "<div>\n",
       "<style scoped>\n",
       "    .dataframe tbody tr th:only-of-type {\n",
       "        vertical-align: middle;\n",
       "    }\n",
       "\n",
       "    .dataframe tbody tr th {\n",
       "        vertical-align: top;\n",
       "    }\n",
       "\n",
       "    .dataframe thead th {\n",
       "        text-align: right;\n",
       "    }\n",
       "</style>\n",
       "<table border=\"1\" class=\"dataframe\">\n",
       "  <thead>\n",
       "    <tr style=\"text-align: right;\">\n",
       "      <th></th>\n",
       "      <th>gender</th>\n",
       "      <th>age</th>\n",
       "      <th>hypertension</th>\n",
       "      <th>heart_disease</th>\n",
       "      <th>ever_married</th>\n",
       "      <th>work_type</th>\n",
       "      <th>Residence_type</th>\n",
       "      <th>avg_glucose_level</th>\n",
       "      <th>bmi</th>\n",
       "      <th>smoking_status</th>\n",
       "      <th>stroke</th>\n",
       "    </tr>\n",
       "  </thead>\n",
       "  <tbody>\n",
       "    <tr>\n",
       "      <th>3116</th>\n",
       "      <td>Other</td>\n",
       "      <td>26.0</td>\n",
       "      <td>0</td>\n",
       "      <td>0</td>\n",
       "      <td>No</td>\n",
       "      <td>Private</td>\n",
       "      <td>Rural</td>\n",
       "      <td>143.33</td>\n",
       "      <td>22.4</td>\n",
       "      <td>formerly smoked</td>\n",
       "      <td>0</td>\n",
       "    </tr>\n",
       "  </tbody>\n",
       "</table>\n",
       "</div>"
      ],
      "text/plain": [
       "     gender   age  hypertension  heart_disease ever_married work_type  \\\n",
       "3116  Other  26.0             0              0           No   Private   \n",
       "\n",
       "     Residence_type  avg_glucose_level   bmi   smoking_status  stroke  \n",
       "3116          Rural             143.33  22.4  formerly smoked       0  "
      ]
     },
     "execution_count": 12,
     "metadata": {},
     "output_type": "execute_result"
    }
   ],
   "source": [
    "stroke[stroke['gender'] == 'Other']"
   ]
  },
  {
   "cell_type": "code",
   "execution_count": 13,
   "metadata": {},
   "outputs": [
    {
     "name": "stdout",
     "output_type": "stream",
     "text": [
      "(5109, 11)\n",
      "Female    2994\n",
      "Male      2115\n",
      "Name: gender, dtype: int64\n"
     ]
    }
   ],
   "source": [
    "stroke.drop([3116], axis=0, inplace=True)\n",
    "print(stroke.shape)\n",
    "print(stroke['gender'].value_counts())"
   ]
  },
  {
   "cell_type": "markdown",
   "metadata": {},
   "source": [
    "####  <font color='blue'> 2.4.2 Merge 'work_type=Never_worked' and 'work_type=children' because the number of 'work_type=Never_worked' is too small  </font> "
   ]
  },
  {
   "cell_type": "code",
   "execution_count": 14,
   "metadata": {},
   "outputs": [
    {
     "data": {
      "text/html": [
       "<div>\n",
       "<style scoped>\n",
       "    .dataframe tbody tr th:only-of-type {\n",
       "        vertical-align: middle;\n",
       "    }\n",
       "\n",
       "    .dataframe tbody tr th {\n",
       "        vertical-align: top;\n",
       "    }\n",
       "\n",
       "    .dataframe thead th {\n",
       "        text-align: right;\n",
       "    }\n",
       "</style>\n",
       "<table border=\"1\" class=\"dataframe\">\n",
       "  <thead>\n",
       "    <tr style=\"text-align: right;\">\n",
       "      <th></th>\n",
       "      <th>gender</th>\n",
       "      <th>age</th>\n",
       "      <th>hypertension</th>\n",
       "      <th>heart_disease</th>\n",
       "      <th>ever_married</th>\n",
       "      <th>work_type</th>\n",
       "      <th>Residence_type</th>\n",
       "      <th>avg_glucose_level</th>\n",
       "      <th>bmi</th>\n",
       "      <th>smoking_status</th>\n",
       "      <th>stroke</th>\n",
       "    </tr>\n",
       "  </thead>\n",
       "  <tbody>\n",
       "    <tr>\n",
       "      <th>253</th>\n",
       "      <td>Male</td>\n",
       "      <td>14.0</td>\n",
       "      <td>0</td>\n",
       "      <td>0</td>\n",
       "      <td>No</td>\n",
       "      <td>Never_worked</td>\n",
       "      <td>Rural</td>\n",
       "      <td>161.28</td>\n",
       "      <td>19.1</td>\n",
       "      <td>Unknown</td>\n",
       "      <td>0</td>\n",
       "    </tr>\n",
       "    <tr>\n",
       "      <th>603</th>\n",
       "      <td>Male</td>\n",
       "      <td>23.0</td>\n",
       "      <td>0</td>\n",
       "      <td>0</td>\n",
       "      <td>No</td>\n",
       "      <td>Never_worked</td>\n",
       "      <td>Urban</td>\n",
       "      <td>125.26</td>\n",
       "      <td>18.7</td>\n",
       "      <td>never smoked</td>\n",
       "      <td>0</td>\n",
       "    </tr>\n",
       "    <tr>\n",
       "      <th>886</th>\n",
       "      <td>Female</td>\n",
       "      <td>19.0</td>\n",
       "      <td>0</td>\n",
       "      <td>0</td>\n",
       "      <td>No</td>\n",
       "      <td>Never_worked</td>\n",
       "      <td>Urban</td>\n",
       "      <td>86.96</td>\n",
       "      <td>25.8</td>\n",
       "      <td>never smoked</td>\n",
       "      <td>0</td>\n",
       "    </tr>\n",
       "    <tr>\n",
       "      <th>939</th>\n",
       "      <td>Male</td>\n",
       "      <td>13.0</td>\n",
       "      <td>0</td>\n",
       "      <td>0</td>\n",
       "      <td>No</td>\n",
       "      <td>Never_worked</td>\n",
       "      <td>Rural</td>\n",
       "      <td>111.48</td>\n",
       "      <td>20.8</td>\n",
       "      <td>Unknown</td>\n",
       "      <td>0</td>\n",
       "    </tr>\n",
       "    <tr>\n",
       "      <th>959</th>\n",
       "      <td>Male</td>\n",
       "      <td>17.0</td>\n",
       "      <td>0</td>\n",
       "      <td>0</td>\n",
       "      <td>No</td>\n",
       "      <td>Never_worked</td>\n",
       "      <td>Urban</td>\n",
       "      <td>113.25</td>\n",
       "      <td>23.4</td>\n",
       "      <td>never smoked</td>\n",
       "      <td>0</td>\n",
       "    </tr>\n",
       "    <tr>\n",
       "      <th>1462</th>\n",
       "      <td>Male</td>\n",
       "      <td>17.0</td>\n",
       "      <td>0</td>\n",
       "      <td>0</td>\n",
       "      <td>No</td>\n",
       "      <td>Never_worked</td>\n",
       "      <td>Rural</td>\n",
       "      <td>61.01</td>\n",
       "      <td>32.5</td>\n",
       "      <td>Unknown</td>\n",
       "      <td>0</td>\n",
       "    </tr>\n",
       "    <tr>\n",
       "      <th>1789</th>\n",
       "      <td>Female</td>\n",
       "      <td>13.0</td>\n",
       "      <td>0</td>\n",
       "      <td>0</td>\n",
       "      <td>No</td>\n",
       "      <td>Never_worked</td>\n",
       "      <td>Urban</td>\n",
       "      <td>70.93</td>\n",
       "      <td>22.9</td>\n",
       "      <td>never smoked</td>\n",
       "      <td>0</td>\n",
       "    </tr>\n",
       "    <tr>\n",
       "      <th>1922</th>\n",
       "      <td>Male</td>\n",
       "      <td>16.0</td>\n",
       "      <td>0</td>\n",
       "      <td>0</td>\n",
       "      <td>No</td>\n",
       "      <td>Never_worked</td>\n",
       "      <td>Urban</td>\n",
       "      <td>59.99</td>\n",
       "      <td>28.2</td>\n",
       "      <td>never smoked</td>\n",
       "      <td>0</td>\n",
       "    </tr>\n",
       "    <tr>\n",
       "      <th>2346</th>\n",
       "      <td>Female</td>\n",
       "      <td>14.0</td>\n",
       "      <td>0</td>\n",
       "      <td>0</td>\n",
       "      <td>No</td>\n",
       "      <td>Never_worked</td>\n",
       "      <td>Urban</td>\n",
       "      <td>148.37</td>\n",
       "      <td>22.7</td>\n",
       "      <td>never smoked</td>\n",
       "      <td>0</td>\n",
       "    </tr>\n",
       "    <tr>\n",
       "      <th>2721</th>\n",
       "      <td>Female</td>\n",
       "      <td>17.0</td>\n",
       "      <td>0</td>\n",
       "      <td>0</td>\n",
       "      <td>No</td>\n",
       "      <td>Never_worked</td>\n",
       "      <td>Rural</td>\n",
       "      <td>88.57</td>\n",
       "      <td>31.1</td>\n",
       "      <td>never smoked</td>\n",
       "      <td>0</td>\n",
       "    </tr>\n",
       "    <tr>\n",
       "      <th>2740</th>\n",
       "      <td>Male</td>\n",
       "      <td>15.0</td>\n",
       "      <td>0</td>\n",
       "      <td>0</td>\n",
       "      <td>No</td>\n",
       "      <td>Never_worked</td>\n",
       "      <td>Rural</td>\n",
       "      <td>79.59</td>\n",
       "      <td>28.4</td>\n",
       "      <td>Unknown</td>\n",
       "      <td>0</td>\n",
       "    </tr>\n",
       "    <tr>\n",
       "      <th>2781</th>\n",
       "      <td>Female</td>\n",
       "      <td>16.0</td>\n",
       "      <td>0</td>\n",
       "      <td>0</td>\n",
       "      <td>No</td>\n",
       "      <td>Never_worked</td>\n",
       "      <td>Urban</td>\n",
       "      <td>84.40</td>\n",
       "      <td>25.9</td>\n",
       "      <td>never smoked</td>\n",
       "      <td>0</td>\n",
       "    </tr>\n",
       "    <tr>\n",
       "      <th>2917</th>\n",
       "      <td>Female</td>\n",
       "      <td>18.0</td>\n",
       "      <td>0</td>\n",
       "      <td>0</td>\n",
       "      <td>No</td>\n",
       "      <td>Never_worked</td>\n",
       "      <td>Urban</td>\n",
       "      <td>82.36</td>\n",
       "      <td>22.7</td>\n",
       "      <td>Unknown</td>\n",
       "      <td>0</td>\n",
       "    </tr>\n",
       "    <tr>\n",
       "      <th>3196</th>\n",
       "      <td>Male</td>\n",
       "      <td>14.0</td>\n",
       "      <td>0</td>\n",
       "      <td>0</td>\n",
       "      <td>No</td>\n",
       "      <td>Never_worked</td>\n",
       "      <td>Urban</td>\n",
       "      <td>137.91</td>\n",
       "      <td>41.8</td>\n",
       "      <td>never smoked</td>\n",
       "      <td>0</td>\n",
       "    </tr>\n",
       "    <tr>\n",
       "      <th>3468</th>\n",
       "      <td>Male</td>\n",
       "      <td>17.0</td>\n",
       "      <td>0</td>\n",
       "      <td>0</td>\n",
       "      <td>No</td>\n",
       "      <td>Never_worked</td>\n",
       "      <td>Rural</td>\n",
       "      <td>124.38</td>\n",
       "      <td>31.2</td>\n",
       "      <td>never smoked</td>\n",
       "      <td>0</td>\n",
       "    </tr>\n",
       "    <tr>\n",
       "      <th>3972</th>\n",
       "      <td>Male</td>\n",
       "      <td>15.0</td>\n",
       "      <td>0</td>\n",
       "      <td>0</td>\n",
       "      <td>No</td>\n",
       "      <td>Never_worked</td>\n",
       "      <td>Urban</td>\n",
       "      <td>64.29</td>\n",
       "      <td>16.7</td>\n",
       "      <td>Unknown</td>\n",
       "      <td>0</td>\n",
       "    </tr>\n",
       "    <tr>\n",
       "      <th>4068</th>\n",
       "      <td>Female</td>\n",
       "      <td>16.0</td>\n",
       "      <td>0</td>\n",
       "      <td>0</td>\n",
       "      <td>No</td>\n",
       "      <td>Never_worked</td>\n",
       "      <td>Urban</td>\n",
       "      <td>102.10</td>\n",
       "      <td>27.1</td>\n",
       "      <td>never smoked</td>\n",
       "      <td>0</td>\n",
       "    </tr>\n",
       "    <tr>\n",
       "      <th>4160</th>\n",
       "      <td>Female</td>\n",
       "      <td>18.0</td>\n",
       "      <td>0</td>\n",
       "      <td>0</td>\n",
       "      <td>No</td>\n",
       "      <td>Never_worked</td>\n",
       "      <td>Urban</td>\n",
       "      <td>81.73</td>\n",
       "      <td>21.6</td>\n",
       "      <td>never smoked</td>\n",
       "      <td>0</td>\n",
       "    </tr>\n",
       "    <tr>\n",
       "      <th>4410</th>\n",
       "      <td>Male</td>\n",
       "      <td>13.0</td>\n",
       "      <td>0</td>\n",
       "      <td>0</td>\n",
       "      <td>No</td>\n",
       "      <td>Never_worked</td>\n",
       "      <td>Urban</td>\n",
       "      <td>85.08</td>\n",
       "      <td>14.6</td>\n",
       "      <td>Unknown</td>\n",
       "      <td>0</td>\n",
       "    </tr>\n",
       "    <tr>\n",
       "      <th>4611</th>\n",
       "      <td>Female</td>\n",
       "      <td>17.0</td>\n",
       "      <td>0</td>\n",
       "      <td>0</td>\n",
       "      <td>No</td>\n",
       "      <td>Never_worked</td>\n",
       "      <td>Urban</td>\n",
       "      <td>78.08</td>\n",
       "      <td>44.9</td>\n",
       "      <td>never smoked</td>\n",
       "      <td>0</td>\n",
       "    </tr>\n",
       "    <tr>\n",
       "      <th>4772</th>\n",
       "      <td>Female</td>\n",
       "      <td>18.0</td>\n",
       "      <td>0</td>\n",
       "      <td>0</td>\n",
       "      <td>No</td>\n",
       "      <td>Never_worked</td>\n",
       "      <td>Urban</td>\n",
       "      <td>97.65</td>\n",
       "      <td>21.5</td>\n",
       "      <td>Unknown</td>\n",
       "      <td>0</td>\n",
       "    </tr>\n",
       "    <tr>\n",
       "      <th>4785</th>\n",
       "      <td>Female</td>\n",
       "      <td>16.0</td>\n",
       "      <td>0</td>\n",
       "      <td>0</td>\n",
       "      <td>No</td>\n",
       "      <td>Never_worked</td>\n",
       "      <td>Rural</td>\n",
       "      <td>68.27</td>\n",
       "      <td>20.4</td>\n",
       "      <td>never smoked</td>\n",
       "      <td>0</td>\n",
       "    </tr>\n",
       "  </tbody>\n",
       "</table>\n",
       "</div>"
      ],
      "text/plain": [
       "      gender   age  hypertension  heart_disease ever_married     work_type  \\\n",
       "253     Male  14.0             0              0           No  Never_worked   \n",
       "603     Male  23.0             0              0           No  Never_worked   \n",
       "886   Female  19.0             0              0           No  Never_worked   \n",
       "939     Male  13.0             0              0           No  Never_worked   \n",
       "959     Male  17.0             0              0           No  Never_worked   \n",
       "1462    Male  17.0             0              0           No  Never_worked   \n",
       "1789  Female  13.0             0              0           No  Never_worked   \n",
       "1922    Male  16.0             0              0           No  Never_worked   \n",
       "2346  Female  14.0             0              0           No  Never_worked   \n",
       "2721  Female  17.0             0              0           No  Never_worked   \n",
       "2740    Male  15.0             0              0           No  Never_worked   \n",
       "2781  Female  16.0             0              0           No  Never_worked   \n",
       "2917  Female  18.0             0              0           No  Never_worked   \n",
       "3196    Male  14.0             0              0           No  Never_worked   \n",
       "3468    Male  17.0             0              0           No  Never_worked   \n",
       "3972    Male  15.0             0              0           No  Never_worked   \n",
       "4068  Female  16.0             0              0           No  Never_worked   \n",
       "4160  Female  18.0             0              0           No  Never_worked   \n",
       "4410    Male  13.0             0              0           No  Never_worked   \n",
       "4611  Female  17.0             0              0           No  Never_worked   \n",
       "4772  Female  18.0             0              0           No  Never_worked   \n",
       "4785  Female  16.0             0              0           No  Never_worked   \n",
       "\n",
       "     Residence_type  avg_glucose_level   bmi smoking_status  stroke  \n",
       "253           Rural             161.28  19.1        Unknown       0  \n",
       "603           Urban             125.26  18.7   never smoked       0  \n",
       "886           Urban              86.96  25.8   never smoked       0  \n",
       "939           Rural             111.48  20.8        Unknown       0  \n",
       "959           Urban             113.25  23.4   never smoked       0  \n",
       "1462          Rural              61.01  32.5        Unknown       0  \n",
       "1789          Urban              70.93  22.9   never smoked       0  \n",
       "1922          Urban              59.99  28.2   never smoked       0  \n",
       "2346          Urban             148.37  22.7   never smoked       0  \n",
       "2721          Rural              88.57  31.1   never smoked       0  \n",
       "2740          Rural              79.59  28.4        Unknown       0  \n",
       "2781          Urban              84.40  25.9   never smoked       0  \n",
       "2917          Urban              82.36  22.7        Unknown       0  \n",
       "3196          Urban             137.91  41.8   never smoked       0  \n",
       "3468          Rural             124.38  31.2   never smoked       0  \n",
       "3972          Urban              64.29  16.7        Unknown       0  \n",
       "4068          Urban             102.10  27.1   never smoked       0  \n",
       "4160          Urban              81.73  21.6   never smoked       0  \n",
       "4410          Urban              85.08  14.6        Unknown       0  \n",
       "4611          Urban              78.08  44.9   never smoked       0  \n",
       "4772          Urban              97.65  21.5        Unknown       0  \n",
       "4785          Rural              68.27  20.4   never smoked       0  "
      ]
     },
     "execution_count": 14,
     "metadata": {},
     "output_type": "execute_result"
    }
   ],
   "source": [
    "stroke[stroke['work_type'] == 'Never_worked']   # It seems that they are very young and can be merged with children"
   ]
  },
  {
   "cell_type": "code",
   "execution_count": 15,
   "metadata": {},
   "outputs": [
    {
     "name": "stdout",
     "output_type": "stream",
     "text": [
      "Private          2924\n",
      "Self-employed     819\n",
      "children          709\n",
      "Govt_job          657\n",
      "Name: work_type, dtype: int64\n"
     ]
    }
   ],
   "source": [
    "stroke['work_type'].replace('Never_worked', 'children', inplace=True)\n",
    "print(stroke['work_type'].value_counts()) "
   ]
  },
  {
   "cell_type": "markdown",
   "metadata": {},
   "source": [
    "# <font color='blue'> 3. Descriptive Statistics </font>"
   ]
  },
  {
   "cell_type": "markdown",
   "metadata": {},
   "source": [
    "###  <font color='blue'> 3.1 Continuous variables </font>"
   ]
  },
  {
   "cell_type": "markdown",
   "metadata": {},
   "source": [
    "####  <font color='blue'> 3.1.1 Quartile & Mean </font>"
   ]
  },
  {
   "cell_type": "code",
   "execution_count": 18,
   "metadata": {
    "scrolled": true
   },
   "outputs": [
    {
     "data": {
      "text/html": [
       "<div>\n",
       "<style scoped>\n",
       "    .dataframe tbody tr th:only-of-type {\n",
       "        vertical-align: middle;\n",
       "    }\n",
       "\n",
       "    .dataframe tbody tr th {\n",
       "        vertical-align: top;\n",
       "    }\n",
       "\n",
       "    .dataframe thead th {\n",
       "        text-align: right;\n",
       "    }\n",
       "</style>\n",
       "<table border=\"1\" class=\"dataframe\">\n",
       "  <thead>\n",
       "    <tr style=\"text-align: right;\">\n",
       "      <th></th>\n",
       "      <th>count</th>\n",
       "      <th>mean</th>\n",
       "      <th>std</th>\n",
       "      <th>min</th>\n",
       "      <th>25%</th>\n",
       "      <th>50%</th>\n",
       "      <th>75%</th>\n",
       "      <th>max</th>\n",
       "    </tr>\n",
       "  </thead>\n",
       "  <tbody>\n",
       "    <tr>\n",
       "      <th>age</th>\n",
       "      <td>5109.0</td>\n",
       "      <td>43.229986</td>\n",
       "      <td>22.613575</td>\n",
       "      <td>0.08</td>\n",
       "      <td>25.00</td>\n",
       "      <td>45.00</td>\n",
       "      <td>61.00</td>\n",
       "      <td>82.00</td>\n",
       "    </tr>\n",
       "    <tr>\n",
       "      <th>avg_glucose_level</th>\n",
       "      <td>5109.0</td>\n",
       "      <td>106.140399</td>\n",
       "      <td>45.285004</td>\n",
       "      <td>55.12</td>\n",
       "      <td>77.24</td>\n",
       "      <td>91.88</td>\n",
       "      <td>114.09</td>\n",
       "      <td>271.74</td>\n",
       "    </tr>\n",
       "    <tr>\n",
       "      <th>bmi</th>\n",
       "      <td>5109.0</td>\n",
       "      <td>28.894774</td>\n",
       "      <td>7.698235</td>\n",
       "      <td>10.30</td>\n",
       "      <td>23.80</td>\n",
       "      <td>28.40</td>\n",
       "      <td>32.80</td>\n",
       "      <td>97.60</td>\n",
       "    </tr>\n",
       "  </tbody>\n",
       "</table>\n",
       "</div>"
      ],
      "text/plain": [
       "                    count        mean        std    min    25%    50%     75%  \\\n",
       "age                5109.0   43.229986  22.613575   0.08  25.00  45.00   61.00   \n",
       "avg_glucose_level  5109.0  106.140399  45.285004  55.12  77.24  91.88  114.09   \n",
       "bmi                5109.0   28.894774   7.698235  10.30  23.80  28.40   32.80   \n",
       "\n",
       "                      max  \n",
       "age                 82.00  \n",
       "avg_glucose_level  271.74  \n",
       "bmi                 97.60  "
      ]
     },
     "execution_count": 18,
     "metadata": {},
     "output_type": "execute_result"
    }
   ],
   "source": [
    "stroke.select_dtypes(include=['number']).describe().T"
   ]
  },
  {
   "cell_type": "markdown",
   "metadata": {},
   "source": [
    "####  <font color='blue'> 3.1.2 Skewness & Kurtosis </font>"
   ]
  },
  {
   "cell_type": "code",
   "execution_count": 19,
   "metadata": {},
   "outputs": [],
   "source": [
    "from scipy import stats"
   ]
  },
  {
   "cell_type": "code",
   "execution_count": 22,
   "metadata": {
    "scrolled": true
   },
   "outputs": [
    {
     "name": "stdout",
     "output_type": "stream",
     "text": [
      "[-0.13738984  1.57235351  1.076038  ]\n"
     ]
    }
   ],
   "source": [
    "print(stats.skew(stroke.select_dtypes(include=['number'])))"
   ]
  },
  {
   "cell_type": "code",
   "execution_count": 23,
   "metadata": {},
   "outputs": [
    {
     "name": "stdout",
     "output_type": "stream",
     "text": [
      "[-0.99113555  1.6789019   3.61793282]\n"
     ]
    }
   ],
   "source": [
    "print(stats.kurtosis(stroke.select_dtypes(include=['number'])))"
   ]
  },
  {
   "cell_type": "markdown",
   "metadata": {},
   "source": [
    "####  <font color='blue'> 3.1.3 Correlation coefficient </font>"
   ]
  },
  {
   "cell_type": "code",
   "execution_count": 24,
   "metadata": {
    "scrolled": true
   },
   "outputs": [
    {
     "data": {
      "text/html": [
       "<div>\n",
       "<style scoped>\n",
       "    .dataframe tbody tr th:only-of-type {\n",
       "        vertical-align: middle;\n",
       "    }\n",
       "\n",
       "    .dataframe tbody tr th {\n",
       "        vertical-align: top;\n",
       "    }\n",
       "\n",
       "    .dataframe thead th {\n",
       "        text-align: right;\n",
       "    }\n",
       "</style>\n",
       "<table border=\"1\" class=\"dataframe\">\n",
       "  <thead>\n",
       "    <tr style=\"text-align: right;\">\n",
       "      <th></th>\n",
       "      <th>age</th>\n",
       "      <th>avg_glucose_level</th>\n",
       "      <th>bmi</th>\n",
       "    </tr>\n",
       "  </thead>\n",
       "  <tbody>\n",
       "    <tr>\n",
       "      <th>age</th>\n",
       "      <td>1.0</td>\n",
       "      <td>0.2</td>\n",
       "      <td>0.3</td>\n",
       "    </tr>\n",
       "    <tr>\n",
       "      <th>avg_glucose_level</th>\n",
       "      <td>0.2</td>\n",
       "      <td>1.0</td>\n",
       "      <td>0.2</td>\n",
       "    </tr>\n",
       "    <tr>\n",
       "      <th>bmi</th>\n",
       "      <td>0.3</td>\n",
       "      <td>0.2</td>\n",
       "      <td>1.0</td>\n",
       "    </tr>\n",
       "  </tbody>\n",
       "</table>\n",
       "</div>"
      ],
      "text/plain": [
       "                   age  avg_glucose_level  bmi\n",
       "age                1.0                0.2  0.3\n",
       "avg_glucose_level  0.2                1.0  0.2\n",
       "bmi                0.3                0.2  1.0"
      ]
     },
     "execution_count": 24,
     "metadata": {},
     "output_type": "execute_result"
    }
   ],
   "source": [
    "round(stroke.select_dtypes(include=['number']).corr(method ='pearson'), 1)"
   ]
  },
  {
   "cell_type": "code",
   "execution_count": 25,
   "metadata": {},
   "outputs": [],
   "source": [
    "import matplotlib as mpl\n",
    "import matplotlib.pyplot as plt\n",
    "import seaborn as sns"
   ]
  },
  {
   "cell_type": "code",
   "execution_count": 26,
   "metadata": {},
   "outputs": [
    {
     "data": {
      "image/png": "[encoded data removed]",
      "text/plain": [
       "<Figure size 324x324 with 12 Axes>"
      ]
     },
     "metadata": {
      "needs_background": "light"
     },
     "output_type": "display_data"
    }
   ],
   "source": [
    "sns.pairplot(stroke.select_dtypes(include=['number']), height=1.5, \n",
    "             plot_kws={'color':'red', 'edgecolor':'red', 'alpha':0.1},\n",
    "             diag_kws={'color':'blue', 'edgecolor':'blue', 'alpha':0.6})\n",
    "plt.show()"
   ]
  },
  {
   "cell_type": "markdown",
   "metadata": {},
   "source": [
    "###  <font color='blue'> 3.2 Categorical Variables </font>"
   ]
  },
  {
   "cell_type": "markdown",
   "metadata": {},
   "source": [
    "#### <font color='blue'> 3.2.1 Count & Proportion for each group of categorical variables </font>"
   ]
  },
  {
   "cell_type": "code",
   "execution_count": 27,
   "metadata": {},
   "outputs": [
    {
     "name": "stdout",
     "output_type": "stream",
     "text": [
      "        gender  gender\n",
      "Female    2994    59.0\n",
      "Male      2115    41.0\n",
      "-----------------------------------------------\n",
      "   hypertension  hypertension\n",
      "0          4611          90.0\n",
      "1           498          10.0\n",
      "-----------------------------------------------\n",
      "   heart_disease  heart_disease\n",
      "0           4833           95.0\n",
      "1            276            5.0\n",
      "-----------------------------------------------\n",
      "     ever_married  ever_married\n",
      "Yes          3353          66.0\n",
      "No           1756          34.0\n",
      "-----------------------------------------------\n",
      "               work_type  work_type\n",
      "Private             2924       57.0\n",
      "Self-employed        819       16.0\n",
      "children             709       14.0\n",
      "Govt_job             657       13.0\n",
      "-----------------------------------------------\n",
      "       Residence_type  Residence_type\n",
      "Urban            2596            51.0\n",
      "Rural            2513            49.0\n",
      "-----------------------------------------------\n",
      "                 smoking_status  smoking_status\n",
      "never smoked               1892            37.0\n",
      "Unknown                    1544            30.0\n",
      "formerly smoked             884            17.0\n",
      "smokes                      789            15.0\n",
      "-----------------------------------------------\n",
      "   stroke  stroke\n",
      "0    4860    95.0\n",
      "1     249     5.0\n",
      "-----------------------------------------------\n"
     ]
    }
   ],
   "source": [
    "for i in stroke.columns:\n",
    "    if stroke[i].dtype == object:\n",
    "        precent = pd.DataFrame(round(stroke[i].value_counts(normalize=True)*100))\n",
    "        count = pd.DataFrame(stroke[i].value_counts())\n",
    "        result = pd.concat([count, precent], axis=1)\n",
    "        print(result)\n",
    "        print('-----------------------------------------------')"
   ]
  },
  {
   "cell_type": "code",
   "execution_count": 28,
   "metadata": {
    "scrolled": false
   },
   "outputs": [
    {
     "name": "stdout",
     "output_type": "stream",
     "text": [
      "(5109, 11)\n"
     ]
    }
   ],
   "source": [
    "print(stroke.shape)"
   ]
  },
  {
   "cell_type": "markdown",
   "metadata": {},
   "source": [
    "#### <font color='blue'> 3.2.2 Relationship between categorical variables and stroke: Chi-square test </font>\n",
    "*  <font color='blue'> To determine if Fisher's exact test is needed, contingency table for 'hypertension' and 'heart disease' are required as they have very uneven proportions between groups  </font>"
   ]
  },
  {
   "cell_type": "code",
   "execution_count": 29,
   "metadata": {
    "scrolled": true
   },
   "outputs": [
    {
     "name": "stdout",
     "output_type": "stream",
     "text": [
      "stroke           0    1\n",
      "hypertension           \n",
      "0             4428  183\n",
      "1              432   66\n"
     ]
    }
   ],
   "source": [
    "HS = pd.crosstab(stroke['hypertension'], stroke['stroke'])\n",
    "print(HS)"
   ]
  },
  {
   "cell_type": "code",
   "execution_count": 30,
   "metadata": {
    "scrolled": false
   },
   "outputs": [
    {
     "data": {
      "text/plain": [
       "(81.57314462043591,\n",
       " 1.688936253410575e-19,\n",
       " 1,\n",
       " array([[4386.27128597,  224.72871403],\n",
       "        [ 473.72871403,   24.27128597]]))"
      ]
     },
     "execution_count": 30,
     "metadata": {},
     "output_type": "execute_result"
    }
   ],
   "source": [
    "stats.chi2_contingency(HS)"
   ]
  },
  {
   "cell_type": "code",
   "execution_count": 31,
   "metadata": {},
   "outputs": [
    {
     "name": "stdout",
     "output_type": "stream",
     "text": [
      "stroke            0    1\n",
      "heart_disease           \n",
      "0              4631  202\n",
      "1               229   47\n"
     ]
    }
   ],
   "source": [
    "HD = pd.crosstab(stroke['heart_disease'], stroke['stroke'])\n",
    "print(HD)"
   ]
  },
  {
   "cell_type": "code",
   "execution_count": 32,
   "metadata": {
    "scrolled": false
   },
   "outputs": [
    {
     "data": {
      "text/plain": [
       "(90.22943664078221,\n",
       " 2.120831133146208e-21,\n",
       " 1,\n",
       " array([[4597.45155608,  235.54844392],\n",
       "        [ 262.54844392,   13.45155608]]))"
      ]
     },
     "execution_count": 32,
     "metadata": {},
     "output_type": "execute_result"
    }
   ],
   "source": [
    "stats.chi2_contingency(HD)"
   ]
  },
  {
   "cell_type": "code",
   "execution_count": 33,
   "metadata": {},
   "outputs": [
    {
     "data": {
      "text/plain": [
       "(0.340002536046177,\n",
       " 0.5598277580669416,\n",
       " 1,\n",
       " array([[2848.07985907,  145.92014093],\n",
       "        [2011.92014093,  103.07985907]]))"
      ]
     },
     "execution_count": 33,
     "metadata": {},
     "output_type": "execute_result"
    }
   ],
   "source": [
    "Other1 = pd.crosstab(stroke['gender'], stroke['stroke'])\n",
    "stats.chi2_contingency(Other1)"
   ]
  },
  {
   "cell_type": "code",
   "execution_count": 34,
   "metadata": {
    "scrolled": true
   },
   "outputs": [
    {
     "data": {
      "text/plain": [
       "(58.86780922483486,\n",
       " 1.6862856191673454e-14,\n",
       " 1,\n",
       " array([[1670.41691133,   85.58308867],\n",
       "        [3189.58308867,  163.41691133]]))"
      ]
     },
     "execution_count": 34,
     "metadata": {},
     "output_type": "execute_result"
    }
   ],
   "source": [
    "Other2 = pd.crosstab(stroke['ever_married'], stroke['stroke'])\n",
    "stats.chi2_contingency(Other2)"
   ]
  },
  {
   "cell_type": "code",
   "execution_count": 35,
   "metadata": {},
   "outputs": [
    {
     "data": {
      "text/plain": [
       "(49.15525171710789,\n",
       " 1.2088650637759443e-10,\n",
       " 3,\n",
       " array([[ 624.97944803,   32.02055197],\n",
       "        [2781.49148561,  142.50851439],\n",
       "        [ 779.08396947,   39.91603053],\n",
       "        [ 674.44509689,   34.55490311]]))"
      ]
     },
     "execution_count": 35,
     "metadata": {},
     "output_type": "execute_result"
    }
   ],
   "source": [
    "Other3 = pd.crosstab(stroke['work_type'], stroke['stroke'])\n",
    "stats.chi2_contingency(Other3)"
   ]
  },
  {
   "cell_type": "code",
   "execution_count": 36,
   "metadata": {},
   "outputs": [
    {
     "data": {
      "text/plain": [
       "(1.0749713079092142,\n",
       " 0.29982523877153633,\n",
       " 1,\n",
       " array([[2390.52260716,  122.47739284],\n",
       "        [2469.47739284,  126.52260716]]))"
      ]
     },
     "execution_count": 36,
     "metadata": {},
     "output_type": "execute_result"
    }
   ],
   "source": [
    "Other4 = pd.crosstab(stroke['Residence_type'], stroke['stroke'])\n",
    "stats.chi2_contingency(Other4)"
   ]
  },
  {
   "cell_type": "code",
   "execution_count": 37,
   "metadata": {},
   "outputs": [
    {
     "data": {
      "text/plain": [
       "(29.22572707549827,\n",
       " 2.0077041756108317e-06,\n",
       " 3,\n",
       " array([[1468.749266  ,   75.250734  ],\n",
       "        [ 840.91603053,   43.08396947],\n",
       "        [1799.78860834,   92.21139166],\n",
       "        [ 750.54609513,   38.45390487]]))"
      ]
     },
     "execution_count": 37,
     "metadata": {},
     "output_type": "execute_result"
    }
   ],
   "source": [
    "Other5 = pd.crosstab(stroke['smoking_status'], stroke['stroke'])\n",
    "stats.chi2_contingency(Other5) "
   ]
  },
  {
   "cell_type": "markdown",
   "metadata": {},
   "source": [
    "# <font color='blue'> 4. Building a Logistic Regression Model </font>"
   ]
  },
  {
   "cell_type": "markdown",
   "metadata": {},
   "source": [
    "###  <font color='blue'> 4.1 Sampling </font>\n",
    "<font color='blue'> Repetitive sampling for 'stroke = 1' due to the large difference in the number of 'stroke = 1' and 'stroke = 0' </font>"
   ]
  },
  {
   "cell_type": "code",
   "execution_count": 38,
   "metadata": {},
   "outputs": [],
   "source": [
    "from collections import Counter\n",
    "from sklearn.utils import resample"
   ]
  },
  {
   "cell_type": "code",
   "execution_count": 39,
   "metadata": {},
   "outputs": [
    {
     "name": "stdout",
     "output_type": "stream",
     "text": [
      "(249, 11)\n"
     ]
    }
   ],
   "source": [
    "strokey1 = stroke[stroke['stroke'] == 1]\n",
    "print(strokey1.shape)"
   ]
  },
  {
   "cell_type": "code",
   "execution_count": 40,
   "metadata": {
    "scrolled": true
   },
   "outputs": [
    {
     "name": "stdout",
     "output_type": "stream",
     "text": [
      "(4611, 11)\n"
     ]
    }
   ],
   "source": [
    "strokey1 = resample(strokey1, replace=True, n_samples=4611, random_state=None, stratify=None)   # 4860 - 249 = 4611\n",
    "print(strokey1.shape)"
   ]
  },
  {
   "cell_type": "code",
   "execution_count": 41,
   "metadata": {},
   "outputs": [
    {
     "name": "stdout",
     "output_type": "stream",
     "text": [
      "(9720, 11)\n"
     ]
    }
   ],
   "source": [
    "stroke = pd.concat([stroke, strokey1])\n",
    "print(stroke.shape)"
   ]
  },
  {
   "cell_type": "code",
   "execution_count": 42,
   "metadata": {},
   "outputs": [
    {
     "data": {
      "text/plain": [
       "Counter({1: 4860, 0: 4860})"
      ]
     },
     "execution_count": 42,
     "metadata": {},
     "output_type": "execute_result"
    }
   ],
   "source": [
    "Counter(stroke['stroke'])"
   ]
  },
  {
   "cell_type": "markdown",
   "metadata": {},
   "source": [
    "### <font color='blue'> 4.2 Dummy coding</font>"
   ]
  },
  {
   "cell_type": "code",
   "execution_count": 59,
   "metadata": {},
   "outputs": [],
   "source": [
    "X = stroke.iloc[:, :-1]\n",
    "y = stroke.iloc[:,  -1]"
   ]
  },
  {
   "cell_type": "code",
   "execution_count": 60,
   "metadata": {
    "scrolled": true
   },
   "outputs": [
    {
     "data": {
      "text/html": [
       "<div>\n",
       "<style scoped>\n",
       "    .dataframe tbody tr th:only-of-type {\n",
       "        vertical-align: middle;\n",
       "    }\n",
       "\n",
       "    .dataframe tbody tr th {\n",
       "        vertical-align: top;\n",
       "    }\n",
       "\n",
       "    .dataframe thead th {\n",
       "        text-align: right;\n",
       "    }\n",
       "</style>\n",
       "<table border=\"1\" class=\"dataframe\">\n",
       "  <thead>\n",
       "    <tr style=\"text-align: right;\">\n",
       "      <th></th>\n",
       "      <th>age</th>\n",
       "      <th>gender_Male</th>\n",
       "      <th>hypertension_1</th>\n",
       "      <th>heart_disease_1</th>\n",
       "      <th>ever_married_Yes</th>\n",
       "      <th>Govt_job</th>\n",
       "      <th>Private</th>\n",
       "      <th>Self-employed</th>\n",
       "      <th>avg_glucose_level</th>\n",
       "      <th>bmi</th>\n",
       "      <th>Residence_type_Urban</th>\n",
       "      <th>formerly smoked</th>\n",
       "      <th>never smoked</th>\n",
       "      <th>smokes</th>\n",
       "    </tr>\n",
       "  </thead>\n",
       "  <tbody>\n",
       "    <tr>\n",
       "      <th>0</th>\n",
       "      <td>67.0</td>\n",
       "      <td>1</td>\n",
       "      <td>0</td>\n",
       "      <td>1</td>\n",
       "      <td>1</td>\n",
       "      <td>0</td>\n",
       "      <td>1</td>\n",
       "      <td>0</td>\n",
       "      <td>228.69</td>\n",
       "      <td>36.6</td>\n",
       "      <td>1</td>\n",
       "      <td>1</td>\n",
       "      <td>0</td>\n",
       "      <td>0</td>\n",
       "    </tr>\n",
       "    <tr>\n",
       "      <th>1</th>\n",
       "      <td>61.0</td>\n",
       "      <td>0</td>\n",
       "      <td>0</td>\n",
       "      <td>0</td>\n",
       "      <td>1</td>\n",
       "      <td>0</td>\n",
       "      <td>0</td>\n",
       "      <td>1</td>\n",
       "      <td>202.21</td>\n",
       "      <td>28.9</td>\n",
       "      <td>0</td>\n",
       "      <td>0</td>\n",
       "      <td>1</td>\n",
       "      <td>0</td>\n",
       "    </tr>\n",
       "    <tr>\n",
       "      <th>2</th>\n",
       "      <td>80.0</td>\n",
       "      <td>1</td>\n",
       "      <td>0</td>\n",
       "      <td>1</td>\n",
       "      <td>1</td>\n",
       "      <td>0</td>\n",
       "      <td>1</td>\n",
       "      <td>0</td>\n",
       "      <td>105.92</td>\n",
       "      <td>32.5</td>\n",
       "      <td>0</td>\n",
       "      <td>0</td>\n",
       "      <td>1</td>\n",
       "      <td>0</td>\n",
       "    </tr>\n",
       "    <tr>\n",
       "      <th>3</th>\n",
       "      <td>49.0</td>\n",
       "      <td>0</td>\n",
       "      <td>0</td>\n",
       "      <td>0</td>\n",
       "      <td>1</td>\n",
       "      <td>0</td>\n",
       "      <td>1</td>\n",
       "      <td>0</td>\n",
       "      <td>171.23</td>\n",
       "      <td>34.4</td>\n",
       "      <td>1</td>\n",
       "      <td>0</td>\n",
       "      <td>0</td>\n",
       "      <td>1</td>\n",
       "    </tr>\n",
       "    <tr>\n",
       "      <th>4</th>\n",
       "      <td>79.0</td>\n",
       "      <td>0</td>\n",
       "      <td>1</td>\n",
       "      <td>0</td>\n",
       "      <td>1</td>\n",
       "      <td>0</td>\n",
       "      <td>0</td>\n",
       "      <td>1</td>\n",
       "      <td>174.12</td>\n",
       "      <td>24.0</td>\n",
       "      <td>0</td>\n",
       "      <td>0</td>\n",
       "      <td>1</td>\n",
       "      <td>0</td>\n",
       "    </tr>\n",
       "  </tbody>\n",
       "</table>\n",
       "</div>"
      ],
      "text/plain": [
       "    age  gender_Male  hypertension_1  heart_disease_1  ever_married_Yes  \\\n",
       "0  67.0            1               0                1                 1   \n",
       "1  61.0            0               0                0                 1   \n",
       "2  80.0            1               0                1                 1   \n",
       "3  49.0            0               0                0                 1   \n",
       "4  79.0            0               1                0                 1   \n",
       "\n",
       "   Govt_job  Private  Self-employed  avg_glucose_level   bmi  \\\n",
       "0         0        1              0             228.69  36.6   \n",
       "1         0        0              1             202.21  28.9   \n",
       "2         0        1              0             105.92  32.5   \n",
       "3         0        1              0             171.23  34.4   \n",
       "4         0        0              1             174.12  24.0   \n",
       "\n",
       "   Residence_type_Urban  formerly smoked  never smoked  smokes  \n",
       "0                     1                1             0       0  \n",
       "1                     0                0             1       0  \n",
       "2                     0                0             1       0  \n",
       "3                     1                0             0       1  \n",
       "4                     0                0             1       0  "
      ]
     },
     "execution_count": 60,
     "metadata": {},
     "output_type": "execute_result"
    }
   ],
   "source": [
    "X = pd.concat([pd.get_dummies(X.iloc[:, :5], drop_first=True),\n",
    "    pd.get_dummies(X['work_type'].mask(X['work_type'] == 'children')),\n",
    "    pd.get_dummies(X.iloc[:, 6:9], drop_first=True),\n",
    "    pd.get_dummies(X['smoking_status'].mask(X['smoking_status'] == 'Unknown'))], axis=1)\n",
    "X.head()"
   ]
  },
  {
   "cell_type": "markdown",
   "metadata": {},
   "source": [
    "###  <font color='blue'> 4.3 Building a Logis Regression Model from a Statistical Perspective - with statsmodels </font>"
   ]
  },
  {
   "cell_type": "markdown",
   "metadata": {},
   "source": [
    "#### <font color='blue'> 4.3.1 Build full model </font>"
   ]
  },
  {
   "cell_type": "code",
   "execution_count": 54,
   "metadata": {},
   "outputs": [],
   "source": [
    "from sklearn.model_selection import train_test_split"
   ]
  },
  {
   "cell_type": "code",
   "execution_count": 61,
   "metadata": {
    "scrolled": true
   },
   "outputs": [],
   "source": [
    "X_train, X_test, y_train, y_test = train_test_split(X, y, \n",
    "                                                    test_size=0.2,\n",
    "                                                    stratify=y,\n",
    "                                                    random_state=42)"
   ]
  },
  {
   "cell_type": "code",
   "execution_count": 62,
   "metadata": {
    "scrolled": true
   },
   "outputs": [
    {
     "data": {
      "text/plain": [
       "Counter({1: 3888, 0: 3888})"
      ]
     },
     "execution_count": 62,
     "metadata": {},
     "output_type": "execute_result"
    }
   ],
   "source": [
    "Counter(y_train)"
   ]
  },
  {
   "cell_type": "code",
   "execution_count": 57,
   "metadata": {},
   "outputs": [],
   "source": [
    "import statsmodels.api as sm"
   ]
  },
  {
   "cell_type": "code",
   "execution_count": 63,
   "metadata": {},
   "outputs": [
    {
     "name": "stdout",
     "output_type": "stream",
     "text": [
      "Optimization terminated successfully.\n",
      "         Current function value: 0.473114\n",
      "         Iterations 7\n",
      "                           Results: Logit\n",
      "=====================================================================\n",
      "Model:                 Logit             Pseudo R-squared:  0.317    \n",
      "Dependent Variable:    stroke            AIC:               7387.8762\n",
      "Date:                  2022-10-18 20:51  BIC:               7492.2582\n",
      "No. Observations:      7776              Log-Likelihood:    -3678.9  \n",
      "Df Model:              14                LL-Null:           -5389.9  \n",
      "Df Residuals:          7761              LLR p-value:       0.0000   \n",
      "Converged:             1.0000            Scale:             1.0000   \n",
      "No. Iterations:        7.0000                                        \n",
      "---------------------------------------------------------------------\n",
      "                      Coef.  Std.Err.    z     P>|z|   [0.025  0.975]\n",
      "---------------------------------------------------------------------\n",
      "const                -4.2870   0.2180 -19.6680 0.0000 -4.7142 -3.8598\n",
      "age                   0.0807   0.0023  34.5003 0.0000  0.0761  0.0852\n",
      "gender_Male          -0.1843   0.0603  -3.0572 0.0022 -0.3025 -0.0661\n",
      "hypertension_1        0.5061   0.0797   6.3508 0.0000  0.3499  0.6623\n",
      "heart_disease_1       0.1298   0.0969   1.3402 0.1802 -0.0600  0.3197\n",
      "ever_married_Yes     -0.0929   0.0969  -0.9591 0.3375 -0.2827  0.0969\n",
      "Govt_job             -1.4788   0.2471  -5.9846 0.0000 -1.9631 -0.9945\n",
      "Private              -1.3289   0.2398  -5.5424 0.0000 -1.7989 -0.8590\n",
      "Self-employed        -1.6207   0.2534  -6.3961 0.0000 -2.1173 -1.1240\n",
      "avg_glucose_level     0.0051   0.0006   8.9117 0.0000  0.0040  0.0062\n",
      "bmi                   0.0130   0.0047   2.7950 0.0052  0.0039  0.0222\n",
      "Residence_type_Urban  0.1551   0.0581   2.6668 0.0077  0.0411  0.2690\n",
      "formerly smoked       0.2133   0.0888   2.4021 0.0163  0.0393  0.3874\n",
      "never smoked         -0.2396   0.0829  -2.8895 0.0039 -0.4021 -0.0771\n",
      "smokes                0.2949   0.0971   3.0378 0.0024  0.1046  0.4851\n",
      "=====================================================================\n",
      "\n"
     ]
    }
   ],
   "source": [
    "X_train1 = sm.add_constant(X_train)   # add intercept\n",
    "model_1 = sm.Logit(y_train.astype(float), X_train1.astype(float)).fit()\n",
    "print(model_1.summary2())"
   ]
  },
  {
   "cell_type": "markdown",
   "metadata": {},
   "source": [
    "#### <font color='blue'> 4.3.1 Model selection </font>"
   ]
  },
  {
   "cell_type": "code",
   "execution_count": 66,
   "metadata": {},
   "outputs": [],
   "source": [
    "x_columns = ['const', 'age', 'gender_Male', 'hypertension_1', 'heart_disease_1', 'ever_married_Yes',\n",
    "       'Govt_job', 'Private', 'Self-employed', 'avg_glucose_level', 'bmi', 'Residence_type_Urban',\n",
    "       'formerly smoked', 'never smoked', 'smokes']"
   ]
  },
  {
   "cell_type": "code",
   "execution_count": 67,
   "metadata": {},
   "outputs": [
    {
     "name": "stdout",
     "output_type": "stream",
     "text": [
      "Optimization terminated successfully.\n",
      "         Current function value: 0.473114\n",
      "         Iterations 7\n",
      "                           Results: Logit\n",
      "=====================================================================\n",
      "Model:                 Logit             Pseudo R-squared:  0.317    \n",
      "Dependent Variable:    stroke            AIC:               7387.8762\n",
      "Date:                  2022-10-18 20:57  BIC:               7492.2582\n",
      "No. Observations:      7776              Log-Likelihood:    -3678.9  \n",
      "Df Model:              14                LL-Null:           -5389.9  \n",
      "Df Residuals:          7761              LLR p-value:       0.0000   \n",
      "Converged:             1.0000            Scale:             1.0000   \n",
      "No. Iterations:        7.0000                                        \n",
      "---------------------------------------------------------------------\n",
      "                      Coef.  Std.Err.    z     P>|z|   [0.025  0.975]\n",
      "---------------------------------------------------------------------\n",
      "const                -4.2870   0.2180 -19.6680 0.0000 -4.7142 -3.8598\n",
      "age                   0.0807   0.0023  34.5003 0.0000  0.0761  0.0852\n",
      "gender_Male          -0.1843   0.0603  -3.0572 0.0022 -0.3025 -0.0661\n",
      "hypertension_1        0.5061   0.0797   6.3508 0.0000  0.3499  0.6623\n",
      "heart_disease_1       0.1298   0.0969   1.3402 0.1802 -0.0600  0.3197\n",
      "ever_married_Yes     -0.0929   0.0969  -0.9591 0.3375 -0.2827  0.0969\n",
      "Govt_job             -1.4788   0.2471  -5.9846 0.0000 -1.9631 -0.9945\n",
      "Private              -1.3289   0.2398  -5.5424 0.0000 -1.7989 -0.8590\n",
      "Self-employed        -1.6207   0.2534  -6.3961 0.0000 -2.1173 -1.1240\n",
      "avg_glucose_level     0.0051   0.0006   8.9117 0.0000  0.0040  0.0062\n",
      "bmi                   0.0130   0.0047   2.7950 0.0052  0.0039  0.0222\n",
      "Residence_type_Urban  0.1551   0.0581   2.6668 0.0077  0.0411  0.2690\n",
      "formerly smoked       0.2133   0.0888   2.4021 0.0163  0.0393  0.3874\n",
      "never smoked         -0.2396   0.0829  -2.8895 0.0039 -0.4021 -0.0771\n",
      "smokes                0.2949   0.0971   3.0378 0.0024  0.1046  0.4851\n",
      "=====================================================================\n",
      "\n"
     ]
    }
   ],
   "source": [
    "X_train2 = X_train1\n",
    "\n",
    "def get_stats():\n",
    "    x = X_train2[x_columns]\n",
    "    results = sm.Logit(y_train.astype(float), x).fit()\n",
    "    print(results.summary2())\n",
    "get_stats()"
   ]
  },
  {
   "cell_type": "code",
   "execution_count": 68,
   "metadata": {},
   "outputs": [
    {
     "name": "stdout",
     "output_type": "stream",
     "text": [
      "Optimization terminated successfully.\n",
      "         Current function value: 0.473174\n",
      "         Iterations 7\n",
      "                           Results: Logit\n",
      "=====================================================================\n",
      "Model:                 Logit             Pseudo R-squared:  0.317    \n",
      "Dependent Variable:    stroke            AIC:               7386.7969\n",
      "Date:                  2022-10-18 20:58  BIC:               7484.2201\n",
      "No. Observations:      7776              Log-Likelihood:    -3679.4  \n",
      "Df Model:              13                LL-Null:           -5389.9  \n",
      "Df Residuals:          7762              LLR p-value:       0.0000   \n",
      "Converged:             1.0000            Scale:             1.0000   \n",
      "No. Iterations:        7.0000                                        \n",
      "---------------------------------------------------------------------\n",
      "                      Coef.  Std.Err.    z     P>|z|   [0.025  0.975]\n",
      "---------------------------------------------------------------------\n",
      "const                -4.2752   0.2176 -19.6460 0.0000 -4.7017 -3.8487\n",
      "age                   0.0802   0.0023  34.8939 0.0000  0.0757  0.0848\n",
      "gender_Male          -0.1865   0.0602  -3.0955 0.0020 -0.3045 -0.0684\n",
      "hypertension_1        0.5085   0.0796   6.3906 0.0000  0.3525  0.6644\n",
      "heart_disease_1       0.1378   0.0965   1.4288 0.1531 -0.0512  0.3269\n",
      "Govt_job             -1.5332   0.2410  -6.3617 0.0000 -2.0056 -1.0608\n",
      "Private              -1.3865   0.2327  -5.9574 0.0000 -1.8427 -0.9304\n",
      "Self-employed        -1.6766   0.2472  -6.7837 0.0000 -2.1610 -1.1922\n",
      "avg_glucose_level     0.0050   0.0006   8.8618 0.0000  0.0039  0.0061\n",
      "bmi                   0.0128   0.0047   2.7524 0.0059  0.0037  0.0220\n",
      "Residence_type_Urban  0.1594   0.0580   2.7507 0.0059  0.0458  0.2730\n",
      "formerly smoked       0.2058   0.0885   2.3262 0.0200  0.0324  0.3791\n",
      "never smoked         -0.2399   0.0829  -2.8937 0.0038 -0.4023 -0.0774\n",
      "smokes                0.2880   0.0968   2.9754 0.0029  0.0983  0.4777\n",
      "=====================================================================\n",
      "\n"
     ]
    }
   ],
   "source": [
    "x_columns.remove('ever_married_Yes')\n",
    "get_stats()"
   ]
  },
  {
   "cell_type": "code",
   "execution_count": 69,
   "metadata": {},
   "outputs": [
    {
     "name": "stdout",
     "output_type": "stream",
     "text": [
      "Optimization terminated successfully.\n",
      "         Current function value: 0.473306\n",
      "         Iterations 7\n",
      "                           Results: Logit\n",
      "=====================================================================\n",
      "Model:                 Logit             Pseudo R-squared:  0.317    \n",
      "Dependent Variable:    stroke            AIC:               7386.8619\n",
      "Date:                  2022-10-18 20:58  BIC:               7477.3263\n",
      "No. Observations:      7776              Log-Likelihood:    -3680.4  \n",
      "Df Model:              12                LL-Null:           -5389.9  \n",
      "Df Residuals:          7763              LLR p-value:       0.0000   \n",
      "Converged:             1.0000            Scale:             1.0000   \n",
      "No. Iterations:        7.0000                                        \n",
      "---------------------------------------------------------------------\n",
      "                      Coef.  Std.Err.    z     P>|z|   [0.025  0.975]\n",
      "---------------------------------------------------------------------\n",
      "const                -4.2987   0.2171 -19.8012 0.0000 -4.7242 -3.8732\n",
      "age                   0.0809   0.0023  35.8708 0.0000  0.0765  0.0853\n",
      "gender_Male          -0.1782   0.0599  -2.9729 0.0030 -0.2956 -0.0607\n",
      "hypertension_1        0.5049   0.0795   6.3513 0.0000  0.3491  0.6607\n",
      "Govt_job             -1.5529   0.2407  -6.4514 0.0000 -2.0247 -1.0811\n",
      "Private              -1.4055   0.2325  -6.0451 0.0000 -1.8611 -0.9498\n",
      "Self-employed        -1.7017   0.2467  -6.8991 0.0000 -2.1852 -1.2183\n",
      "avg_glucose_level     0.0052   0.0006   9.2505 0.0000  0.0041  0.0063\n",
      "bmi                   0.0128   0.0047   2.7516 0.0059  0.0037  0.0220\n",
      "Residence_type_Urban  0.1612   0.0579   2.7825 0.0054  0.0476  0.2747\n",
      "formerly smoked       0.2010   0.0884   2.2742 0.0230  0.0278  0.3743\n",
      "never smoked         -0.2466   0.0828  -2.9795 0.0029 -0.4088 -0.0844\n",
      "smokes                0.2992   0.0964   3.1052 0.0019  0.1103  0.4881\n",
      "=====================================================================\n",
      "\n"
     ]
    }
   ],
   "source": [
    "x_columns.remove('heart_disease_1')\n",
    "get_stats()     # Here is my final model"
   ]
  },
  {
   "cell_type": "code",
   "execution_count": 70,
   "metadata": {},
   "outputs": [
    {
     "name": "stdout",
     "output_type": "stream",
     "text": [
      "Optimization terminated successfully.\n",
      "         Current function value: 0.473306\n",
      "         Iterations 7\n",
      "                           Logit Regression Results                           \n",
      "==============================================================================\n",
      "Dep. Variable:                 stroke   No. Observations:                 7776\n",
      "Model:                          Logit   Df Residuals:                     7763\n",
      "Method:                           MLE   Df Model:                           12\n",
      "Date:                Tue, 18 Oct 2022   Pseudo R-squ.:                  0.3172\n",
      "Time:                        20:58:43   Log-Likelihood:                -3680.4\n",
      "converged:                       True   LL-Null:                       -5389.9\n",
      "Covariance Type:            nonrobust   LLR p-value:                     0.000\n",
      "========================================================================================\n",
      "                           coef    std err          z      P>|z|      [0.025      0.975]\n",
      "----------------------------------------------------------------------------------------\n",
      "const                   -4.2987      0.217    -19.801      0.000      -4.724      -3.873\n",
      "age                      0.0809      0.002     35.871      0.000       0.077       0.085\n",
      "gender_Male             -0.1782      0.060     -2.973      0.003      -0.296      -0.061\n",
      "hypertension_1           0.5049      0.079      6.351      0.000       0.349       0.661\n",
      "Govt_job                -1.5529      0.241     -6.451      0.000      -2.025      -1.081\n",
      "Private                 -1.4055      0.232     -6.045      0.000      -1.861      -0.950\n",
      "Self-employed           -1.7017      0.247     -6.899      0.000      -2.185      -1.218\n",
      "avg_glucose_level        0.0052      0.001      9.251      0.000       0.004       0.006\n",
      "bmi                      0.0128      0.005      2.752      0.006       0.004       0.022\n",
      "Residence_type_Urban     0.1612      0.058      2.782      0.005       0.048       0.275\n",
      "formerly smoked          0.2010      0.088      2.274      0.023       0.028       0.374\n",
      "never smoked            -0.2466      0.083     -2.980      0.003      -0.409      -0.084\n",
      "smokes                   0.2992      0.096      3.105      0.002       0.110       0.488\n",
      "========================================================================================\n"
     ]
    }
   ],
   "source": [
    "X_train2 = X_train1[x_columns]\n",
    "model_1_2 = sm.Logit(y_train.astype(float), X_train2).fit()\n",
    "print(model_1_2.summary())"
   ]
  },
  {
   "cell_type": "code",
   "execution_count": 71,
   "metadata": {},
   "outputs": [],
   "source": [
    "from sklearn.metrics import confusion_matrix"
   ]
  },
  {
   "cell_type": "code",
   "execution_count": 84,
   "metadata": {},
   "outputs": [
    {
     "data": {
      "text/plain": [
       "array([[3152,  736],\n",
       "       [1130, 2758]], dtype=int64)"
      ]
     },
     "execution_count": 84,
     "metadata": {},
     "output_type": "execute_result"
    }
   ],
   "source": [
    "d = round(model_1.fittedvalues)\n",
    "d[d >= 1] = 1\n",
    "d[d < 1] = 0\n",
    "cm = confusion_matrix(y_train.astype(float), d)\n",
    "cm\n",
    "# TN|FP\n",
    "# FN|TP"
   ]
  },
  {
   "cell_type": "code",
   "execution_count": 88,
   "metadata": {},
   "outputs": [
    {
     "name": "stdout",
     "output_type": "stream",
     "text": [
      "Train accuracy rate : 80.06%\n",
      "Train Precision : 78.94%\n",
      "Train Sensitivity : 70.94%\n",
      "Train Specificity : 81.07%\n"
     ]
    }
   ],
   "source": [
    "TN = 3152\n",
    "FP = 736\n",
    "FN = 1130\n",
    "TP = 2758\n",
    "\n",
    "print(f'Train accuracy rate : {(TP+TN)/(TP+FP+FN+TP):.2%}')\n",
    "print(f'Train Precision : {TP/(TP+FP):.2%}')\n",
    "print(f'Train Sensitivity : {TP/(TP+FN):.2%}')\n",
    "print(f'Train Specificity : {TN/(TN+FP):.2%}')"
   ]
  },
  {
   "cell_type": "code",
   "execution_count": 89,
   "metadata": {},
   "outputs": [],
   "source": [
    "x_columns.remove('const')\n",
    "X_test1 = sm.add_constant(X_test[x_columns])\n",
    "y_pred_1 = model_1_2.predict(X_test1)"
   ]
  },
  {
   "cell_type": "code",
   "execution_count": 91,
   "metadata": {},
   "outputs": [
    {
     "data": {
      "text/plain": [
       "array([[717, 255],\n",
       "       [163, 809]], dtype=int64)"
      ]
     },
     "execution_count": 91,
     "metadata": {},
     "output_type": "execute_result"
    }
   ],
   "source": [
    "cm2 = confusion_matrix(y_test.astype(float), round(y_pred_1))\n",
    "cm2"
   ]
  },
  {
   "cell_type": "code",
   "execution_count": 113,
   "metadata": {},
   "outputs": [
    {
     "name": "stdout",
     "output_type": "stream",
     "text": [
      "Test accuracy rate : 78.82%\n",
      "Test Precision : 76.03%\n",
      "Test Sensitivity : 92.78%\n",
      "Test Specificity : 73.77%\n"
     ]
    }
   ],
   "source": [
    "TN = 717\n",
    "FP = 255\n",
    "FN = 63\n",
    "TP = 809\n",
    "\n",
    "print(f'Test accuracy rate : {(TP+TN)/(TP+FP+FN+TP):.2%}')\n",
    "print(f'Test Precision : {TP/(TP+FP):.2%}')\n",
    "print(f'Test Sensitivity : {TP/(TP+FN):.2%}')\n",
    "print(f'Test Specificity : {TN/(TN+FP):.2%}')"
   ]
  },
  {
   "cell_type": "markdown",
   "metadata": {},
   "source": [
    "###  <font color='blue'> 4.4 Building a Logis Regression Model from a Machine Learning Perspective - with sklearn </font>\n",
    "<font color='blue'> Model a hundred times and find the best </font>"
   ]
  },
  {
   "cell_type": "code",
   "execution_count": 93,
   "metadata": {},
   "outputs": [],
   "source": [
    "from sklearn.linear_model import LogisticRegression\n",
    "from sklearn.metrics import confusion_matrix, accuracy_score"
   ]
  },
  {
   "cell_type": "code",
   "execution_count": 94,
   "metadata": {},
   "outputs": [],
   "source": [
    "y = y.astype('int')  # y is of type object\n",
    "\n",
    "acc_train = []\n",
    "acc_test = []\n",
    "SEED = []\n",
    "n_iter = 100\n",
    "model = LogisticRegression(max_iter=1000, n_jobs=-1)\n",
    "\n",
    "for idx in range(1, n_iter+1) :\n",
    "    seed = np.random.randint(0, 60001)\n",
    "    SEED.append(f'{seed:,}')\n",
    "    X_train, X_test, y_train, y_test = train_test_split(X, y, \n",
    "                                                    test_size=0.2, \n",
    "                                                    stratify=y,\n",
    "                                                    random_state=seed)\n",
    "    \n",
    "    model.fit(X_train, y_train)\n",
    "    acc_train.append(model.score(X_train, y_train))\n",
    "    acc_test.append(model.score(X_test, y_test))"
   ]
  },
  {
   "cell_type": "code",
   "execution_count": 95,
   "metadata": {},
   "outputs": [
    {
     "data": {
      "image/png": "[encoded data removed]",
      "text/plain": [
       "<Figure size 1440x216 with 1 Axes>"
      ]
     },
     "metadata": {
      "needs_background": "light"
     },
     "output_type": "display_data"
    }
   ],
   "source": [
    "plt.figure(figsize=[20, 3])\n",
    "\n",
    "plt.plot(acc_train, color='blue', linestyle='-', alpha=0.6)\n",
    "plt.plot(acc_test, color='red', linestyle='--', alpha=0.6)\n",
    "\n",
    "plt.xticks(range(100), SEED, rotation='vertical')\n",
    "plt.grid(True)\n",
    "plt.legend(['acc_train', 'acc_test'], loc='upper right')\n",
    "\n",
    "plt.show()"
   ]
  },
  {
   "cell_type": "code",
   "execution_count": 105,
   "metadata": {},
   "outputs": [
    {
     "data": {
      "text/html": [
       "<div>\n",
       "<style scoped>\n",
       "    .dataframe tbody tr th:only-of-type {\n",
       "        vertical-align: middle;\n",
       "    }\n",
       "\n",
       "    .dataframe tbody tr th {\n",
       "        vertical-align: top;\n",
       "    }\n",
       "\n",
       "    .dataframe thead th {\n",
       "        text-align: right;\n",
       "    }\n",
       "</style>\n",
       "<table border=\"1\" class=\"dataframe\">\n",
       "  <thead>\n",
       "    <tr style=\"text-align: right;\">\n",
       "      <th></th>\n",
       "      <th>SEED</th>\n",
       "      <th>acc_train</th>\n",
       "      <th>acc_test</th>\n",
       "      <th>Avg</th>\n",
       "    </tr>\n",
       "  </thead>\n",
       "  <tbody>\n",
       "    <tr>\n",
       "      <th>3</th>\n",
       "      <td>31,938</td>\n",
       "      <td>0.783951</td>\n",
       "      <td>0.808128</td>\n",
       "      <td>0.796039</td>\n",
       "    </tr>\n",
       "  </tbody>\n",
       "</table>\n",
       "</div>"
      ],
      "text/plain": [
       "     SEED  acc_train  acc_test       Avg\n",
       "3  31,938   0.783951  0.808128  0.796039"
      ]
     },
     "execution_count": 105,
     "metadata": {},
     "output_type": "execute_result"
    }
   ],
   "source": [
    "Avg = (np.sum([acc_train, acc_test], axis=0)/2).tolist()\n",
    "df = pd.DataFrame({ 'SEED' : SEED, 'acc_train' : acc_train, 'acc_test' : acc_test, 'Avg' : Avg}) \n",
    "df[df['Avg']==max(df['Avg'])]"
   ]
  },
  {
   "cell_type": "code",
   "execution_count": 106,
   "metadata": {},
   "outputs": [],
   "source": [
    "# It looks like acc_train & acc_test have the highest average on the 41st model, which is seed = 31,938\n",
    "\n",
    "X_train, X_test, y_train, y_test = train_test_split(X, y, \n",
    "                                                    test_size=0.2,\n",
    "                                                    stratify=y,\n",
    "                                                    random_state=31938)\n",
    "\n",
    "model_2 = LogisticRegression(random_state=None, max_iter=1000, n_jobs=-1)\n",
    "model_2.fit(X_train, y_train)\n",
    "y_pred_2 = model_2.predict(X_test)"
   ]
  },
  {
   "cell_type": "code",
   "execution_count": 107,
   "metadata": {},
   "outputs": [
    {
     "data": {
      "text/plain": [
       "array([[ 0.07837584, -0.18820541,  0.44747788,  0.21947281, -0.04638925,\n",
       "        -1.2839917 , -1.13186786, -1.44207237,  0.00457146,  0.01077525,\n",
       "         0.19064527,  0.09915861, -0.2955742 ,  0.2677156 ]])"
      ]
     },
     "execution_count": 107,
     "metadata": {},
     "output_type": "execute_result"
    }
   ],
   "source": [
    "model_2.coef_"
   ]
  },
  {
   "cell_type": "code",
   "execution_count": 115,
   "metadata": {},
   "outputs": [
    {
     "data": {
      "text/html": [
       "<div>\n",
       "<style scoped>\n",
       "    .dataframe tbody tr th:only-of-type {\n",
       "        vertical-align: middle;\n",
       "    }\n",
       "\n",
       "    .dataframe tbody tr th {\n",
       "        vertical-align: top;\n",
       "    }\n",
       "\n",
       "    .dataframe thead th {\n",
       "        text-align: right;\n",
       "    }\n",
       "</style>\n",
       "<table border=\"1\" class=\"dataframe\">\n",
       "  <thead>\n",
       "    <tr style=\"text-align: right;\">\n",
       "      <th>Predict</th>\n",
       "      <th>0</th>\n",
       "      <th>1</th>\n",
       "    </tr>\n",
       "    <tr>\n",
       "      <th>Actual</th>\n",
       "      <th></th>\n",
       "      <th></th>\n",
       "    </tr>\n",
       "  </thead>\n",
       "  <tbody>\n",
       "    <tr>\n",
       "      <th>0</th>\n",
       "      <td>2847</td>\n",
       "      <td>1041</td>\n",
       "    </tr>\n",
       "    <tr>\n",
       "      <th>1</th>\n",
       "      <td>639</td>\n",
       "      <td>3249</td>\n",
       "    </tr>\n",
       "  </tbody>\n",
       "</table>\n",
       "</div>"
      ],
      "text/plain": [
       "Predict     0     1\n",
       "Actual             \n",
       "0        2847  1041\n",
       "1         639  3249"
      ]
     },
     "execution_count": 115,
     "metadata": {},
     "output_type": "execute_result"
    }
   ],
   "source": [
    "pd.crosstab(index=y_train, columns=model_2.predict(X_train), rownames=['Actual'], colnames=['Predict'])"
   ]
  },
  {
   "cell_type": "code",
   "execution_count": 116,
   "metadata": {},
   "outputs": [
    {
     "name": "stdout",
     "output_type": "stream",
     "text": [
      "Train accuracy rate : 74.54%\n",
      "Train Precision : 75.73%\n",
      "Train Sensitivity : 83.56%\n",
      "Train Specificity : 73.23%\n"
     ]
    }
   ],
   "source": [
    "TN = 2847\n",
    "FP = 1041\n",
    "FN = 639\n",
    "TP = 3249\n",
    "\n",
    "print(f'Train accuracy rate : {(TP+TN)/(TP+FP+FN+TP):.2%}')\n",
    "print(f'Train Precision : {TP/(TP+FP):.2%}')\n",
    "print(f'Train Sensitivity : {TP/(TP+FN):.2%}')\n",
    "print(f'Train Specificity : {TN/(TN+FP):.2%}')"
   ]
  },
  {
   "cell_type": "code",
   "execution_count": 108,
   "metadata": {
    "scrolled": false
   },
   "outputs": [
    {
     "data": {
      "text/html": [
       "<div>\n",
       "<style scoped>\n",
       "    .dataframe tbody tr th:only-of-type {\n",
       "        vertical-align: middle;\n",
       "    }\n",
       "\n",
       "    .dataframe tbody tr th {\n",
       "        vertical-align: top;\n",
       "    }\n",
       "\n",
       "    .dataframe thead th {\n",
       "        text-align: right;\n",
       "    }\n",
       "</style>\n",
       "<table border=\"1\" class=\"dataframe\">\n",
       "  <thead>\n",
       "    <tr style=\"text-align: right;\">\n",
       "      <th>Predict</th>\n",
       "      <th>0</th>\n",
       "      <th>1</th>\n",
       "    </tr>\n",
       "    <tr>\n",
       "      <th>Actual</th>\n",
       "      <th></th>\n",
       "      <th></th>\n",
       "    </tr>\n",
       "  </thead>\n",
       "  <tbody>\n",
       "    <tr>\n",
       "      <th>0</th>\n",
       "      <td>744</td>\n",
       "      <td>228</td>\n",
       "    </tr>\n",
       "    <tr>\n",
       "      <th>1</th>\n",
       "      <td>145</td>\n",
       "      <td>827</td>\n",
       "    </tr>\n",
       "  </tbody>\n",
       "</table>\n",
       "</div>"
      ],
      "text/plain": [
       "Predict    0    1\n",
       "Actual           \n",
       "0        744  228\n",
       "1        145  827"
      ]
     },
     "execution_count": 108,
     "metadata": {},
     "output_type": "execute_result"
    }
   ],
   "source": [
    "pd.crosstab(index=y_test, columns=y_pred_2, rownames=['Actual'], colnames=['Predict'])"
   ]
  },
  {
   "cell_type": "code",
   "execution_count": 112,
   "metadata": {},
   "outputs": [
    {
     "name": "stdout",
     "output_type": "stream",
     "text": [
      "Test accuracy rate : 77.50%\n",
      "Test Precision : 78.39%\n",
      "Test Sensitivity : 85.08%\n",
      "Test Specificity : 76.54%\n"
     ]
    }
   ],
   "source": [
    "TN = 744\n",
    "FP = 228\n",
    "FN = 145\n",
    "TP = 827\n",
    "\n",
    "print(f'Test accuracy rate : {(TP+TN)/(TP+FP+FN+TP):.2%}')\n",
    "print(f'Test Precision : {TP/(TP+FP):.2%}')\n",
    "print(f'Test Sensitivity : {TP/(TP+FN):.2%}')\n",
    "print(f'Test Specificity : {TN/(TN+FP):.2%}')"
   ]
  },
  {
   "cell_type": "code",
   "execution_count": 111,
   "metadata": {
    "scrolled": true
   },
   "outputs": [
    {
     "data": {
      "image/png": "[encoded data removed]",
      "text/plain": [
       "<Figure size 432x288 with 1 Axes>"
      ]
     },
     "metadata": {
      "needs_background": "light"
     },
     "output_type": "display_data"
    }
   ],
   "source": [
    "from sklearn.metrics import roc_auc_score\n",
    "from sklearn.metrics import roc_curve\n",
    "\n",
    "logit_roc_auc = roc_auc_score(y_test, model_2.predict(X_test))\n",
    "fpr, tpr, thresholds = roc_curve(y_test, model_2.predict_proba(X_test)[:,1])\n",
    "plt.figure()\n",
    "plt.plot(fpr, tpr, color='red', linewidth=1, label='Logistic Regression (area = %0.2f)' % logit_roc_auc)\n",
    "plt.plot([0, 1], [0, 1], color='blue', linewidth=1)\n",
    "plt.xlim([0.0, 1.0])\n",
    "plt.ylim([0.0, 1.05])\n",
    "plt.xlabel('False Positive Rate')\n",
    "plt.ylabel('True Positive Rate')\n",
    "plt.title('ROC Curve')\n",
    "plt.legend(loc=\"lower right\")\n",
    "plt.show()"
   ]
  },
  {
   "cell_type": "markdown",
   "metadata": {},
   "source": [
    "####  <font color='blue'> Validate model performance with Cross Validation </font>"
   ]
  },
  {
   "cell_type": "code",
   "execution_count": 117,
   "metadata": {
    "scrolled": true
   },
   "outputs": [
    {
     "name": "stdout",
     "output_type": "stream",
     "text": [
      "Accuracy Rate : 78.19%, (CI : 2.92%)\n"
     ]
    }
   ],
   "source": [
    "from sklearn.model_selection import RepeatedStratifiedKFold\n",
    "from sklearn.model_selection import cross_val_score\n",
    "\n",
    "cv = RepeatedStratifiedKFold(n_splits=10, n_repeats=100, random_state=None)\n",
    "scores = cross_val_score(model_2, X_train, y_train, cv=cv, n_jobs=-1)\n",
    "print(f'Accuracy Rate : {np.mean(scores):.2%}, (CI : {np.std(scores)*2:.2%})')"
   ]
  },
  {
   "cell_type": "code",
   "execution_count": 118,
   "metadata": {},
   "outputs": [],
   "source": [
    "stroke.to_excel('stroke2.xls')"
   ]
  }
 ],
 "metadata": {
  "kernelspec": {
   "display_name": "Python 3",
   "language": "python",
   "name": "python3"
  },
  "language_info": {
   "codemirror_mode": {
    "name": "ipython",
    "version": 3
   },
   "file_extension": ".py",
   "mimetype": "text/x-python",
   "name": "python",
   "nbconvert_exporter": "python",
   "pygments_lexer": "ipython3",
   "version": "3.8.5"
  }
 },
 "nbformat": 4,
 "nbformat_minor": 4
}
